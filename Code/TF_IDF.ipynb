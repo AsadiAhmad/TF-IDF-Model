{
  "cells": [
    {
      "cell_type": "markdown",
      "metadata": {
        "id": "view-in-github",
        "colab_type": "text"
      },
      "source": [
        "<a href=\"https://colab.research.google.com/github/AsadiAhmad/TF-IDF-Model/blob/main/Code/TF_IDF.ipynb\" target=\"_parent\"><img src=\"https://colab.research.google.com/assets/colab-badge.svg\" alt=\"Open In Colab\"/></a>"
      ]
    },
    {
      "cell_type": "markdown",
      "metadata": {
        "id": "v3R3xQDaIOwV"
      },
      "source": [
        "# Step 1: Import Libraries"
      ]
    },
    {
      "cell_type": "code",
      "execution_count": 34,
      "metadata": {
        "id": "dqBVBAn1IBrp"
      },
      "outputs": [],
      "source": [
        "import requests\n",
        "\n",
        "import numpy as np\n",
        "import polars as pl\n",
        "\n",
        "from collections import defaultdict, Counter\n",
        "\n",
        "import matplotlib.pyplot as plt"
      ]
    },
    {
      "cell_type": "markdown",
      "metadata": {
        "id": "MEHr7trMNh0a"
      },
      "source": [
        "# Step 2: Download Documents and Queries"
      ]
    },
    {
      "cell_type": "code",
      "execution_count": 2,
      "metadata": {
        "id": "IoPuqKMNN903"
      },
      "outputs": [],
      "source": [
        "def download_text(url):\n",
        "    response = requests.get(url)\n",
        "    if response.status_code == 200:\n",
        "        return response.text\n",
        "    else:\n",
        "        print(f\"Failed to fetch {url}. Status code: {response.status_code}\")\n",
        "        return None"
      ]
    },
    {
      "cell_type": "code",
      "execution_count": 3,
      "metadata": {
        "id": "oE0fK5hfPYuG"
      },
      "outputs": [],
      "source": [
        "urls = {\n",
        "    \"Documents\": \"https://raw.githubusercontent.com/AsadiAhmad/TF-IDF-Model/main/Dataset/Documents.txt\",\n",
        "    \"Queries\": \"https://raw.githubusercontent.com/AsadiAhmad/TF-IDF-Model/main/Dataset/Queries.txt\",\n",
        "    \"Result\": \"https://raw.githubusercontent.com/AsadiAhmad/TF-IDF-Model/main/Dataset/Result.txt\"\n",
        "}"
      ]
    },
    {
      "cell_type": "code",
      "execution_count": 4,
      "metadata": {
        "colab": {
          "base_uri": "https://localhost:8080/"
        },
        "id": "Ajkhvi8KPaLn",
        "outputId": "0ffa8014-b7e3-4985-b6a9-b7deb3fc359a"
      },
      "outputs": [
        {
          "output_type": "stream",
          "name": "stdout",
          "text": [
            "Datasets downloaded successfully!\n"
          ]
        }
      ],
      "source": [
        "data = {}\n",
        "for key, url in urls.items():\n",
        "    data[key] = download_text(url)\n",
        "\n",
        "print(\"Datasets downloaded successfully!\")"
      ]
    },
    {
      "cell_type": "markdown",
      "metadata": {
        "id": "TgoRndq1XhHX"
      },
      "source": [
        "# Step 3: Convert Dataset into Polars Data frame"
      ]
    },
    {
      "cell_type": "markdown",
      "metadata": {
        "id": "IT_nQsvyfLKp"
      },
      "source": [
        "## Convert into polars"
      ]
    },
    {
      "cell_type": "code",
      "execution_count": 5,
      "metadata": {
        "id": "UHKj9AigXpQQ"
      },
      "outputs": [],
      "source": [
        "documents_text = data[\"Documents\"]\n",
        "queries_text = data[\"Queries\"]\n",
        "result_text = data[\"Result\"]"
      ]
    },
    {
      "cell_type": "code",
      "execution_count": 6,
      "metadata": {
        "id": "PvYSlsqsb-A0"
      },
      "outputs": [],
      "source": [
        "documents_splited = documents_text.split('********************************************')\n",
        "\n",
        "for index, doc in enumerate(documents_splited):\n",
        "    documents_splited[index] = doc.strip()\n",
        "\n",
        "documents = pl.DataFrame({\n",
        "    \"index\": range(1, len(documents_splited) + 1),\n",
        "    \"text\": documents_splited\n",
        "})\n",
        "\n",
        "documents = documents.with_columns(\n",
        "    pl.col(\"text\")\n",
        "    .str.split(\"\\n\")\n",
        "    .list.slice(1)\n",
        "    .list.join(\" \")\n",
        "    .str.replace_all(r'\\s+', ' ')\n",
        "    .str.strip_chars()\n",
        ")"
      ]
    },
    {
      "cell_type": "code",
      "execution_count": 7,
      "metadata": {
        "id": "hmmm8K3kxKEA"
      },
      "outputs": [],
      "source": [
        "queries_splited = queries_text.split('#')\n",
        "\n",
        "for index, doc in enumerate(queries_splited):\n",
        "    queries_splited[index] = doc.strip()\n",
        "\n",
        "queries = pl.DataFrame({\n",
        "    \"index\": range(1, len(queries_splited) + 1),\n",
        "    \"text\": queries_splited\n",
        "})\n",
        "\n",
        "queries = queries.with_columns(\n",
        "    pl.col(\"text\")\n",
        "    .str.split(\"\\n\")\n",
        "    .list.slice(1)\n",
        "    .list.join(\" \")\n",
        "    .str.replace_all(r'\\s+', ' ')\n",
        "    .str.strip_chars()\n",
        ")"
      ]
    },
    {
      "cell_type": "code",
      "source": [
        "reference_lines = []\n",
        "for line in result_text.split('\\n'):\n",
        "    line = line.strip()\n",
        "    if line.endswith('-1'):\n",
        "        refs = line[:-2].strip().split()\n",
        "        reference_lines.append([int(ref) for ref in refs])\n",
        "\n",
        "result = pl.DataFrame({\n",
        "    \"index\": range(1, len(reference_lines) + 1),\n",
        "    \"references\": reference_lines\n",
        "})"
      ],
      "metadata": {
        "id": "HZ2rfcILyxFI"
      },
      "execution_count": 8,
      "outputs": []
    },
    {
      "cell_type": "markdown",
      "metadata": {
        "id": "pm577WSBfCaq"
      },
      "source": [
        "## Set Config for polar showing"
      ]
    },
    {
      "cell_type": "code",
      "execution_count": 9,
      "metadata": {
        "colab": {
          "base_uri": "https://localhost:8080/",
          "height": 224
        },
        "id": "2T-Bpwa6fCHg",
        "outputId": "04078a09-0b61-442f-ccd4-a057e91abbe5"
      },
      "outputs": [
        {
          "output_type": "execute_result",
          "data": {
            "text/plain": [
              "polars.config.Config"
            ],
            "text/html": [
              "<div style=\"max-width:800px; border: 1px solid var(--colab-border-color);\"><style>\n",
              "      pre.function-repr-contents {\n",
              "        overflow-x: auto;\n",
              "        padding: 8px 12px;\n",
              "        max-height: 500px;\n",
              "      }\n",
              "\n",
              "      pre.function-repr-contents.function-repr-contents-collapsed {\n",
              "        cursor: pointer;\n",
              "        max-height: 100px;\n",
              "      }\n",
              "    </style>\n",
              "    <pre style=\"white-space: initial; background:\n",
              "         var(--colab-secondary-surface-color); padding: 8px 12px;\n",
              "         border-bottom: 1px solid var(--colab-border-color);\"><b>polars.config.Config</b><br/>def __call__(func)</pre><pre class=\"function-repr-contents function-repr-contents-collapsed\" style=\"\"><a class=\"filepath\" style=\"display:none\" href=\"#\">/usr/local/lib/python3.11/dist-packages/polars/config.py</a>Configure polars; offers options for table formatting and more.\n",
              "\n",
              "Notes\n",
              "-----\n",
              "Can also be used as a context manager OR a function decorator in order to\n",
              "temporarily scope the lifetime of specific options. For example:\n",
              "\n",
              "&gt;&gt;&gt; with pl.Config() as cfg:\n",
              "...     # set verbose for more detailed output within the scope\n",
              "...     cfg.set_verbose(True)  # doctest: +IGNORE_RESULT\n",
              "&gt;&gt;&gt; # scope exit - no longer in verbose mode\n",
              "\n",
              "This can also be written more compactly as:\n",
              "\n",
              "&gt;&gt;&gt; with pl.Config(verbose=True):\n",
              "...     pass\n",
              "\n",
              "(The compact format is available for all `Config` methods that take a single value).\n",
              "\n",
              "Alternatively, you can use as a decorator in order to scope the duration of the\n",
              "selected options to a specific function:\n",
              "\n",
              "&gt;&gt;&gt; @pl.Config(verbose=True)\n",
              "... def test():\n",
              "...     pass</pre>\n",
              "      <script>\n",
              "      if (google.colab.kernel.accessAllowed && google.colab.files && google.colab.files.view) {\n",
              "        for (const element of document.querySelectorAll('.filepath')) {\n",
              "          element.style.display = 'block'\n",
              "          element.onclick = (event) => {\n",
              "            event.preventDefault();\n",
              "            event.stopPropagation();\n",
              "            google.colab.files.view(element.textContent, 145);\n",
              "          };\n",
              "        }\n",
              "      }\n",
              "      for (const element of document.querySelectorAll('.function-repr-contents')) {\n",
              "        element.onclick = (event) => {\n",
              "          event.preventDefault();\n",
              "          event.stopPropagation();\n",
              "          element.classList.toggle('function-repr-contents-collapsed');\n",
              "        };\n",
              "      }\n",
              "      </script>\n",
              "      </div>"
            ]
          },
          "metadata": {},
          "execution_count": 9
        }
      ],
      "source": [
        "pl.Config.set_tbl_rows(-1)\n",
        "pl.Config.set_tbl_cols(-1)\n",
        "pl.Config.set_fmt_str_lengths(70)\n",
        "pl.Config.set_fmt_table_cell_list_len(10)"
      ]
    },
    {
      "cell_type": "markdown",
      "metadata": {
        "id": "7yJlQPRhw8fI"
      },
      "source": [
        "## Showing all frames"
      ]
    },
    {
      "cell_type": "code",
      "source": [
        "print(documents.row(0, named=True))"
      ],
      "metadata": {
        "colab": {
          "base_uri": "https://localhost:8080/"
        },
        "id": "VitIO31VXBO5",
        "outputId": "2f7585ff-6c8d-47fb-bb07-f263907abaf4"
      },
      "execution_count": 13,
      "outputs": [
        {
          "output_type": "stream",
          "name": "stdout",
          "text": [
            "{'index': 1, 'text': 'THE INDIAN COUNCIL OF LIBRARY AND INFORMATION SERVICES RESEARCH AND TRAINING: A PROPOSAL FOR CONSIDERATION. CRITICALLY EXAMINES THE INDIAN LIBRARY SCENE. THE MANAGEMENT, OPERATION, AND SERVICES OF MOST LIBRARIES IS INEFFICIENT AND INEFFECTIVE, RESULTING IN GRAVE MISALLOCATION AND UNDERUTILISATION OF LIBRARY RESOURCES. LITTLE MAJOR RESEARCH HAS BEEN CARRIED OUT. UNIVERSITY LIBRARIANSHIP COURSES ARE NOT MUCH HELP FOR MANAGING AND OPERATING LIBRARIES EFFICIENTLY. THE MAJOR NATIONAL INSTITUTIONS HAVE SERIOUS LIMITATIONS. TO IMPROVE THE SITUATION, PROPOSES THE ESTABLISHMENT OF AN INDIAN COUNCIL OF LIBRARY AND INFORMATION SERVICES RESEARCH AND TRAINING. THE COUNCIL WOULD BE SET UP BY THE GOVERNMENT AND HAVE WELL-DEFINED ROLES AND FUNCTIONS COVERING ALL ASPECTS OF INDIAN LIBRARIANSHIP.'}\n"
          ]
        }
      ]
    },
    {
      "cell_type": "code",
      "execution_count": 10,
      "metadata": {
        "colab": {
          "base_uri": "https://localhost:8080/",
          "height": 412
        },
        "id": "klefrgFRw9gu",
        "outputId": "c8e549ac-09dc-4c2d-e278-204258bbaa58"
      },
      "outputs": [
        {
          "output_type": "execute_result",
          "data": {
            "text/plain": [
              "shape: (10, 2)\n",
              "┌───────┬─────────────────────────────────────────────────────────────────────────┐\n",
              "│ index ┆ text                                                                    │\n",
              "│ ---   ┆ ---                                                                     │\n",
              "│ i64   ┆ str                                                                     │\n",
              "╞═══════╪═════════════════════════════════════════════════════════════════════════╡\n",
              "│ 1     ┆ THE INDIAN COUNCIL OF LIBRARY AND INFORMATION SERVICES RESEARCH AND TR… │\n",
              "│ 2     ┆ THE LINGERING FRAGRANCE: PROCEEDINGS OF THE XXIV ALL INDIA LIBRARY CON… │\n",
              "│ 3     ┆ XXV ALL INDIA LIBRARY CONFERENCE TRIVANDRUM 14-18 MAY 1979. PAPERS AND… │\n",
              "│ 4     ┆ MALAWI LIBRARY ASSOCIATION SECOND ANNUAL GENERAL MEETING, CHANCELLOR C… │\n",
              "│ 5     ┆ A PERSONAL VIEW OF THE ZAMBIA LIBRARY SERVICE. PERSONAL VIEW OF THE SE… │\n",
              "│ 6     ┆ CLA 80: TURNING ON THE POWER. REPORT OF PROCEEDINGS OF THE 35TH ANNUAL… │\n",
              "│ 7     ┆ UNCERTAIN BEGINNINGS. REPORT OF THE AMERICAN LIBRARY ASSOCIATION MIDWI… │\n",
              "│ 8     ┆ MIDWINTER IN REAGAN'S WASHINGTON: AN ALA CONFERENCE REPORT. REPORT OF … │\n",
              "│ 9     ┆ THE WHITE HOUSE CONFERENCE ON LIBRARY AND INFORMATION SERVICES, 1979. … │\n",
              "│ 10    ┆ INFORMATION: BOOKS ARE JUST THE BEGINNING. THE MICHIGAN WHITE HOUSE CO… │\n",
              "└───────┴─────────────────────────────────────────────────────────────────────────┘"
            ],
            "text/html": [
              "<div><style>\n",
              ".dataframe > thead > tr,\n",
              ".dataframe > tbody > tr {\n",
              "  text-align: right;\n",
              "  white-space: pre-wrap;\n",
              "}\n",
              "</style>\n",
              "<small>shape: (10, 2)</small><table border=\"1\" class=\"dataframe\"><thead><tr><th>index</th><th>text</th></tr><tr><td>i64</td><td>str</td></tr></thead><tbody><tr><td>1</td><td>&quot;THE INDIAN COUNCIL OF LIBRARY AND INFORMATION SERVICES RESEARCH AND TR…</td></tr><tr><td>2</td><td>&quot;THE LINGERING FRAGRANCE: PROCEEDINGS OF THE XXIV ALL INDIA LIBRARY CON…</td></tr><tr><td>3</td><td>&quot;XXV ALL INDIA LIBRARY CONFERENCE TRIVANDRUM 14-18 MAY 1979. PAPERS AND…</td></tr><tr><td>4</td><td>&quot;MALAWI LIBRARY ASSOCIATION SECOND ANNUAL GENERAL MEETING, CHANCELLOR C…</td></tr><tr><td>5</td><td>&quot;A PERSONAL VIEW OF THE ZAMBIA LIBRARY SERVICE. PERSONAL VIEW OF THE SE…</td></tr><tr><td>6</td><td>&quot;CLA 80: TURNING ON THE POWER. REPORT OF PROCEEDINGS OF THE 35TH ANNUAL…</td></tr><tr><td>7</td><td>&quot;UNCERTAIN BEGINNINGS. REPORT OF THE AMERICAN LIBRARY ASSOCIATION MIDWI…</td></tr><tr><td>8</td><td>&quot;MIDWINTER IN REAGAN&#x27;S WASHINGTON: AN ALA CONFERENCE REPORT. REPORT OF …</td></tr><tr><td>9</td><td>&quot;THE WHITE HOUSE CONFERENCE ON LIBRARY AND INFORMATION SERVICES, 1979. …</td></tr><tr><td>10</td><td>&quot;INFORMATION: BOOKS ARE JUST THE BEGINNING. THE MICHIGAN WHITE HOUSE CO…</td></tr></tbody></table></div>"
            ]
          },
          "metadata": {},
          "execution_count": 10
        }
      ],
      "source": [
        "documents.head(10)"
      ]
    },
    {
      "cell_type": "code",
      "execution_count": 11,
      "metadata": {
        "colab": {
          "base_uri": "https://localhost:8080/",
          "height": 412
        },
        "id": "p8znEUHTyrXD",
        "outputId": "49310104-f0c3-43e1-83bb-59ee1ce97aa9"
      },
      "outputs": [
        {
          "output_type": "execute_result",
          "data": {
            "text/plain": [
              "shape: (10, 2)\n",
              "┌───────┬─────────────────────────────────────────────────────────────────────────┐\n",
              "│ index ┆ text                                                                    │\n",
              "│ ---   ┆ ---                                                                     │\n",
              "│ i64   ┆ str                                                                     │\n",
              "╞═══════╪═════════════════════════════════════════════════════════════════════════╡\n",
              "│ 1     ┆ I AM INTERESTED IN THE IDENTIFICATION AND EVALUATION OF NOVEL COMPUTER… │\n",
              "│ 2     ┆ I WOULD BE INTERESTED TO RECEIVE INFORMATION ON NON-USERS OF LIBRARIES… │\n",
              "│ 3     ┆ I AM INTERESTED IN COMPUTER DOCUMENTATION SYSTEMS FOR CHEMICAL PATENTS… │\n",
              "│ 4     ┆ I WOULD BE PLEASED TO RECEIVE ANY INFORMATION ON THE USE OF JOURNALS I… │\n",
              "│ 5     ┆ MY DISSERTATION IS AN OVERVIEW OF NEWS DATABASES, LOOKING AT THE AVAIL… │\n",
              "│ 6     ┆ MY DISSERTATION IS ON LIBRARY OUTREACH FOR THE CHINESE COMMUNITY IN SH… │\n",
              "│ 7     ┆ I WOULD BE PLEASED TO RECEIVE PAPERS ON THE SECURITY OF INFORMATION IN… │\n",
              "│ 8     ┆ I AM INTERESTED IN THE PROFESSIONAL EDUCATION OF LIBRARIANS, IN PARTIC… │\n",
              "│ 9     ┆ I AM INTERESTED IN THE EXTENT TO WHICH LIBRARIES ARE CHARGING FOR SERV… │\n",
              "│ 10    ┆ I AM INTERESTED IN INFORMATION ON THE PROVISION OF CURRENT AWARENESS B… │\n",
              "└───────┴─────────────────────────────────────────────────────────────────────────┘"
            ],
            "text/html": [
              "<div><style>\n",
              ".dataframe > thead > tr,\n",
              ".dataframe > tbody > tr {\n",
              "  text-align: right;\n",
              "  white-space: pre-wrap;\n",
              "}\n",
              "</style>\n",
              "<small>shape: (10, 2)</small><table border=\"1\" class=\"dataframe\"><thead><tr><th>index</th><th>text</th></tr><tr><td>i64</td><td>str</td></tr></thead><tbody><tr><td>1</td><td>&quot;I AM INTERESTED IN THE IDENTIFICATION AND EVALUATION OF NOVEL COMPUTER…</td></tr><tr><td>2</td><td>&quot;I WOULD BE INTERESTED TO RECEIVE INFORMATION ON NON-USERS OF LIBRARIES…</td></tr><tr><td>3</td><td>&quot;I AM INTERESTED IN COMPUTER DOCUMENTATION SYSTEMS FOR CHEMICAL PATENTS…</td></tr><tr><td>4</td><td>&quot;I WOULD BE PLEASED TO RECEIVE ANY INFORMATION ON THE USE OF JOURNALS I…</td></tr><tr><td>5</td><td>&quot;MY DISSERTATION IS AN OVERVIEW OF NEWS DATABASES, LOOKING AT THE AVAIL…</td></tr><tr><td>6</td><td>&quot;MY DISSERTATION IS ON LIBRARY OUTREACH FOR THE CHINESE COMMUNITY IN SH…</td></tr><tr><td>7</td><td>&quot;I WOULD BE PLEASED TO RECEIVE PAPERS ON THE SECURITY OF INFORMATION IN…</td></tr><tr><td>8</td><td>&quot;I AM INTERESTED IN THE PROFESSIONAL EDUCATION OF LIBRARIANS, IN PARTIC…</td></tr><tr><td>9</td><td>&quot;I AM INTERESTED IN THE EXTENT TO WHICH LIBRARIES ARE CHARGING FOR SERV…</td></tr><tr><td>10</td><td>&quot;I AM INTERESTED IN INFORMATION ON THE PROVISION OF CURRENT AWARENESS B…</td></tr></tbody></table></div>"
            ]
          },
          "metadata": {},
          "execution_count": 11
        }
      ],
      "source": [
        "queries.head(10)"
      ]
    },
    {
      "cell_type": "code",
      "source": [
        "result.head(10)"
      ],
      "metadata": {
        "colab": {
          "base_uri": "https://localhost:8080/",
          "height": 412
        },
        "id": "dmVkxnD66PhA",
        "outputId": "d12c8f28-cf4f-4a6a-e35f-747d1fb5bd05"
      },
      "execution_count": 12,
      "outputs": [
        {
          "output_type": "execute_result",
          "data": {
            "text/plain": [
              "shape: (10, 2)\n",
              "┌───────┬──────────────────────────────────────────────────────────────┐\n",
              "│ index ┆ references                                                   │\n",
              "│ ---   ┆ ---                                                          │\n",
              "│ i64   ┆ list[i64]                                                    │\n",
              "╞═══════╪══════════════════════════════════════════════════════════════╡\n",
              "│ 1     ┆ [3392, 3396]                                                 │\n",
              "│ 2     ┆ [2623, 4291]                                                 │\n",
              "│ 3     ┆ [1407, 1431, 3794, 3795, 3796]                               │\n",
              "│ 4     ┆ [604, 3527, 4644, 5087, 5112, 5113, 5295]                    │\n",
              "│ 5     ┆ [3401]                                                       │\n",
              "│ 6     ┆ [5626, 5627, 5628, 5629, 5631]                               │\n",
              "│ 7     ┆ [277, 278, 279, 1277, 1278, 1769, 2279, 3265, 3267, … 5778]  │\n",
              "│ 8     ┆ [4485, 4486, 4499, 4717, 5011, 5170, 5533, 5534, 5723, 5816] │\n",
              "│ 9     ┆ [178, 680, 681, 1412, 3178, 3689, 3922, 4374, 4692, … 5859]  │\n",
              "│ 10    ┆ [769, 770, 1309, 1310, 1807, 2318, 2319, 2321, 2407, … 5801] │\n",
              "└───────┴──────────────────────────────────────────────────────────────┘"
            ],
            "text/html": [
              "<div><style>\n",
              ".dataframe > thead > tr,\n",
              ".dataframe > tbody > tr {\n",
              "  text-align: right;\n",
              "  white-space: pre-wrap;\n",
              "}\n",
              "</style>\n",
              "<small>shape: (10, 2)</small><table border=\"1\" class=\"dataframe\"><thead><tr><th>index</th><th>references</th></tr><tr><td>i64</td><td>list[i64]</td></tr></thead><tbody><tr><td>1</td><td>[3392, 3396]</td></tr><tr><td>2</td><td>[2623, 4291]</td></tr><tr><td>3</td><td>[1407, 1431, 3794, 3795, 3796]</td></tr><tr><td>4</td><td>[604, 3527, 4644, 5087, 5112, 5113, 5295]</td></tr><tr><td>5</td><td>[3401]</td></tr><tr><td>6</td><td>[5626, 5627, 5628, 5629, 5631]</td></tr><tr><td>7</td><td>[277, 278, 279, 1277, 1278, 1769, 2279, 3265, 3267, … 5778]</td></tr><tr><td>8</td><td>[4485, 4486, 4499, 4717, 5011, 5170, 5533, 5534, 5723, 5816]</td></tr><tr><td>9</td><td>[178, 680, 681, 1412, 3178, 3689, 3922, 4374, 4692, … 5859]</td></tr><tr><td>10</td><td>[769, 770, 1309, 1310, 1807, 2318, 2319, 2321, 2407, … 5801]</td></tr></tbody></table></div>"
            ]
          },
          "metadata": {},
          "execution_count": 12
        }
      ]
    },
    {
      "cell_type": "markdown",
      "source": [
        "# Step 4: Preprocess"
      ],
      "metadata": {
        "id": "CKsq0vsGGT9u"
      }
    },
    {
      "cell_type": "markdown",
      "source": [
        "## Clear garbage charachters and digits"
      ],
      "metadata": {
        "id": "7DeDlZilGbnt"
      }
    },
    {
      "cell_type": "code",
      "source": [
        "def clean_text(df):\n",
        "    df = df.with_columns(\n",
        "        pl.col(\"text\")\n",
        "        .str.replace_all(r\"[.,(){}\\[\\]*&^%$#@!?_\\-+=/\\\\`~'\\\";:]\", \" \") # Remove special characters\n",
        "        .str.replace_all(r\"\\d\", \" \")                                   # Remove digits\n",
        "        .str.replace_all(r\"\\s+\", \" \")                                  # Replace multiple whitespace with single space\n",
        "        .str.strip_chars()                                             # Remove leading/trailing whitespace\n",
        "    )\n",
        "    return df"
      ],
      "metadata": {
        "id": "4dNNHQcMGc21"
      },
      "execution_count": 18,
      "outputs": []
    },
    {
      "cell_type": "code",
      "source": [
        "documents_clean = clean_text(documents)\n",
        "queries_clean = clean_text(queries)"
      ],
      "metadata": {
        "id": "mFkY41XGGq7P"
      },
      "execution_count": 19,
      "outputs": []
    },
    {
      "cell_type": "code",
      "source": [
        "documents_clean.head(10)"
      ],
      "metadata": {
        "colab": {
          "base_uri": "https://localhost:8080/",
          "height": 412
        },
        "id": "Ta_eLVttGtif",
        "outputId": "2b825f20-485c-4835-a31a-4bfdd14cbbaa"
      },
      "execution_count": 20,
      "outputs": [
        {
          "output_type": "execute_result",
          "data": {
            "text/plain": [
              "shape: (10, 2)\n",
              "┌───────┬─────────────────────────────────────────────────────────────────────────┐\n",
              "│ index ┆ text                                                                    │\n",
              "│ ---   ┆ ---                                                                     │\n",
              "│ i64   ┆ str                                                                     │\n",
              "╞═══════╪═════════════════════════════════════════════════════════════════════════╡\n",
              "│ 1     ┆ THE INDIAN COUNCIL OF LIBRARY AND INFORMATION SERVICES RESEARCH AND TR… │\n",
              "│ 2     ┆ THE LINGERING FRAGRANCE PROCEEDINGS OF THE XXIV ALL INDIA LIBRARY CONF… │\n",
              "│ 3     ┆ XXV ALL INDIA LIBRARY CONFERENCE TRIVANDRUM MAY PAPERS AND PROCEEDINGS… │\n",
              "│ 4     ┆ MALAWI LIBRARY ASSOCIATION SECOND ANNUAL GENERAL MEETING CHANCELLOR CO… │\n",
              "│ 5     ┆ A PERSONAL VIEW OF THE ZAMBIA LIBRARY SERVICE PERSONAL VIEW OF THE SER… │\n",
              "│ 6     ┆ CLA TURNING ON THE POWER REPORT OF PROCEEDINGS OF THE TH ANNUAL CANADI… │\n",
              "│ 7     ┆ UNCERTAIN BEGINNINGS REPORT OF THE AMERICAN LIBRARY ASSOCIATION MIDWIN… │\n",
              "│ 8     ┆ MIDWINTER IN REAGAN S WASHINGTON AN ALA CONFERENCE REPORT REPORT OF TH… │\n",
              "│ 9     ┆ THE WHITE HOUSE CONFERENCE ON LIBRARY AND INFORMATION SERVICES SUMMARY… │\n",
              "│ 10    ┆ INFORMATION BOOKS ARE JUST THE BEGINNING THE MICHIGAN WHITE HOUSE CONF… │\n",
              "└───────┴─────────────────────────────────────────────────────────────────────────┘"
            ],
            "text/html": [
              "<div><style>\n",
              ".dataframe > thead > tr,\n",
              ".dataframe > tbody > tr {\n",
              "  text-align: right;\n",
              "  white-space: pre-wrap;\n",
              "}\n",
              "</style>\n",
              "<small>shape: (10, 2)</small><table border=\"1\" class=\"dataframe\"><thead><tr><th>index</th><th>text</th></tr><tr><td>i64</td><td>str</td></tr></thead><tbody><tr><td>1</td><td>&quot;THE INDIAN COUNCIL OF LIBRARY AND INFORMATION SERVICES RESEARCH AND TR…</td></tr><tr><td>2</td><td>&quot;THE LINGERING FRAGRANCE PROCEEDINGS OF THE XXIV ALL INDIA LIBRARY CONF…</td></tr><tr><td>3</td><td>&quot;XXV ALL INDIA LIBRARY CONFERENCE TRIVANDRUM MAY PAPERS AND PROCEEDINGS…</td></tr><tr><td>4</td><td>&quot;MALAWI LIBRARY ASSOCIATION SECOND ANNUAL GENERAL MEETING CHANCELLOR CO…</td></tr><tr><td>5</td><td>&quot;A PERSONAL VIEW OF THE ZAMBIA LIBRARY SERVICE PERSONAL VIEW OF THE SER…</td></tr><tr><td>6</td><td>&quot;CLA TURNING ON THE POWER REPORT OF PROCEEDINGS OF THE TH ANNUAL CANADI…</td></tr><tr><td>7</td><td>&quot;UNCERTAIN BEGINNINGS REPORT OF THE AMERICAN LIBRARY ASSOCIATION MIDWIN…</td></tr><tr><td>8</td><td>&quot;MIDWINTER IN REAGAN S WASHINGTON AN ALA CONFERENCE REPORT REPORT OF TH…</td></tr><tr><td>9</td><td>&quot;THE WHITE HOUSE CONFERENCE ON LIBRARY AND INFORMATION SERVICES SUMMARY…</td></tr><tr><td>10</td><td>&quot;INFORMATION BOOKS ARE JUST THE BEGINNING THE MICHIGAN WHITE HOUSE CONF…</td></tr></tbody></table></div>"
            ]
          },
          "metadata": {},
          "execution_count": 20
        }
      ]
    },
    {
      "cell_type": "code",
      "source": [
        "queries_clean.head(10)"
      ],
      "metadata": {
        "colab": {
          "base_uri": "https://localhost:8080/",
          "height": 412
        },
        "id": "hojApYtqMmSR",
        "outputId": "69f87bad-fd4e-4d49-8dd7-38ae73afe4b5"
      },
      "execution_count": 21,
      "outputs": [
        {
          "output_type": "execute_result",
          "data": {
            "text/plain": [
              "shape: (10, 2)\n",
              "┌───────┬─────────────────────────────────────────────────────────────────────────┐\n",
              "│ index ┆ text                                                                    │\n",
              "│ ---   ┆ ---                                                                     │\n",
              "│ i64   ┆ str                                                                     │\n",
              "╞═══════╪═════════════════════════════════════════════════════════════════════════╡\n",
              "│ 1     ┆ I AM INTERESTED IN THE IDENTIFICATION AND EVALUATION OF NOVEL COMPUTER… │\n",
              "│ 2     ┆ I WOULD BE INTERESTED TO RECEIVE INFORMATION ON NON USERS OF LIBRARIES… │\n",
              "│ 3     ┆ I AM INTERESTED IN COMPUTER DOCUMENTATION SYSTEMS FOR CHEMICAL PATENTS… │\n",
              "│ 4     ┆ I WOULD BE PLEASED TO RECEIVE ANY INFORMATION ON THE USE OF JOURNALS I… │\n",
              "│ 5     ┆ MY DISSERTATION IS AN OVERVIEW OF NEWS DATABASES LOOKING AT THE AVAILA… │\n",
              "│ 6     ┆ MY DISSERTATION IS ON LIBRARY OUTREACH FOR THE CHINESE COMMUNITY IN SH… │\n",
              "│ 7     ┆ I WOULD BE PLEASED TO RECEIVE PAPERS ON THE SECURITY OF INFORMATION IN… │\n",
              "│ 8     ┆ I AM INTERESTED IN THE PROFESSIONAL EDUCATION OF LIBRARIANS IN PARTICU… │\n",
              "│ 9     ┆ I AM INTERESTED IN THE EXTENT TO WHICH LIBRARIES ARE CHARGING FOR SERV… │\n",
              "│ 10    ┆ I AM INTERESTED IN INFORMATION ON THE PROVISION OF CURRENT AWARENESS B… │\n",
              "└───────┴─────────────────────────────────────────────────────────────────────────┘"
            ],
            "text/html": [
              "<div><style>\n",
              ".dataframe > thead > tr,\n",
              ".dataframe > tbody > tr {\n",
              "  text-align: right;\n",
              "  white-space: pre-wrap;\n",
              "}\n",
              "</style>\n",
              "<small>shape: (10, 2)</small><table border=\"1\" class=\"dataframe\"><thead><tr><th>index</th><th>text</th></tr><tr><td>i64</td><td>str</td></tr></thead><tbody><tr><td>1</td><td>&quot;I AM INTERESTED IN THE IDENTIFICATION AND EVALUATION OF NOVEL COMPUTER…</td></tr><tr><td>2</td><td>&quot;I WOULD BE INTERESTED TO RECEIVE INFORMATION ON NON USERS OF LIBRARIES…</td></tr><tr><td>3</td><td>&quot;I AM INTERESTED IN COMPUTER DOCUMENTATION SYSTEMS FOR CHEMICAL PATENTS…</td></tr><tr><td>4</td><td>&quot;I WOULD BE PLEASED TO RECEIVE ANY INFORMATION ON THE USE OF JOURNALS I…</td></tr><tr><td>5</td><td>&quot;MY DISSERTATION IS AN OVERVIEW OF NEWS DATABASES LOOKING AT THE AVAILA…</td></tr><tr><td>6</td><td>&quot;MY DISSERTATION IS ON LIBRARY OUTREACH FOR THE CHINESE COMMUNITY IN SH…</td></tr><tr><td>7</td><td>&quot;I WOULD BE PLEASED TO RECEIVE PAPERS ON THE SECURITY OF INFORMATION IN…</td></tr><tr><td>8</td><td>&quot;I AM INTERESTED IN THE PROFESSIONAL EDUCATION OF LIBRARIANS IN PARTICU…</td></tr><tr><td>9</td><td>&quot;I AM INTERESTED IN THE EXTENT TO WHICH LIBRARIES ARE CHARGING FOR SERV…</td></tr><tr><td>10</td><td>&quot;I AM INTERESTED IN INFORMATION ON THE PROVISION OF CURRENT AWARENESS B…</td></tr></tbody></table></div>"
            ]
          },
          "metadata": {},
          "execution_count": 21
        }
      ]
    },
    {
      "cell_type": "markdown",
      "source": [
        "## Lower all alphabet charachters"
      ],
      "metadata": {
        "id": "37lk8Xu4GuQG"
      }
    },
    {
      "cell_type": "code",
      "source": [
        "def lower_text(df):\n",
        "    df = df.with_columns(\n",
        "        pl.col(\"text\")\n",
        "        .str.to_lowercase()\n",
        "    )\n",
        "    return df"
      ],
      "metadata": {
        "id": "XGivrmHyGy-c"
      },
      "execution_count": 22,
      "outputs": []
    },
    {
      "cell_type": "code",
      "source": [
        "documents_lower = lower_text(documents_clean)\n",
        "queries_lower = lower_text(queries_clean)"
      ],
      "metadata": {
        "id": "tOxtfzcrG0fO"
      },
      "execution_count": 23,
      "outputs": []
    },
    {
      "cell_type": "code",
      "source": [
        "documents_lower.head(10)"
      ],
      "metadata": {
        "colab": {
          "base_uri": "https://localhost:8080/",
          "height": 412
        },
        "id": "g-T0TWTFG11l",
        "outputId": "74ee17bf-8300-4ff4-916b-a74cfedc93bc"
      },
      "execution_count": 24,
      "outputs": [
        {
          "output_type": "execute_result",
          "data": {
            "text/plain": [
              "shape: (10, 2)\n",
              "┌───────┬─────────────────────────────────────────────────────────────────────────┐\n",
              "│ index ┆ text                                                                    │\n",
              "│ ---   ┆ ---                                                                     │\n",
              "│ i64   ┆ str                                                                     │\n",
              "╞═══════╪═════════════════════════════════════════════════════════════════════════╡\n",
              "│ 1     ┆ the indian council of library and information services research and tr… │\n",
              "│ 2     ┆ the lingering fragrance proceedings of the xxiv all india library conf… │\n",
              "│ 3     ┆ xxv all india library conference trivandrum may papers and proceedings… │\n",
              "│ 4     ┆ malawi library association second annual general meeting chancellor co… │\n",
              "│ 5     ┆ a personal view of the zambia library service personal view of the ser… │\n",
              "│ 6     ┆ cla turning on the power report of proceedings of the th annual canadi… │\n",
              "│ 7     ┆ uncertain beginnings report of the american library association midwin… │\n",
              "│ 8     ┆ midwinter in reagan s washington an ala conference report report of th… │\n",
              "│ 9     ┆ the white house conference on library and information services summary… │\n",
              "│ 10    ┆ information books are just the beginning the michigan white house conf… │\n",
              "└───────┴─────────────────────────────────────────────────────────────────────────┘"
            ],
            "text/html": [
              "<div><style>\n",
              ".dataframe > thead > tr,\n",
              ".dataframe > tbody > tr {\n",
              "  text-align: right;\n",
              "  white-space: pre-wrap;\n",
              "}\n",
              "</style>\n",
              "<small>shape: (10, 2)</small><table border=\"1\" class=\"dataframe\"><thead><tr><th>index</th><th>text</th></tr><tr><td>i64</td><td>str</td></tr></thead><tbody><tr><td>1</td><td>&quot;the indian council of library and information services research and tr…</td></tr><tr><td>2</td><td>&quot;the lingering fragrance proceedings of the xxiv all india library conf…</td></tr><tr><td>3</td><td>&quot;xxv all india library conference trivandrum may papers and proceedings…</td></tr><tr><td>4</td><td>&quot;malawi library association second annual general meeting chancellor co…</td></tr><tr><td>5</td><td>&quot;a personal view of the zambia library service personal view of the ser…</td></tr><tr><td>6</td><td>&quot;cla turning on the power report of proceedings of the th annual canadi…</td></tr><tr><td>7</td><td>&quot;uncertain beginnings report of the american library association midwin…</td></tr><tr><td>8</td><td>&quot;midwinter in reagan s washington an ala conference report report of th…</td></tr><tr><td>9</td><td>&quot;the white house conference on library and information services summary…</td></tr><tr><td>10</td><td>&quot;information books are just the beginning the michigan white house conf…</td></tr></tbody></table></div>"
            ]
          },
          "metadata": {},
          "execution_count": 24
        }
      ]
    },
    {
      "cell_type": "code",
      "source": [
        "queries_lower.head(10)"
      ],
      "metadata": {
        "colab": {
          "base_uri": "https://localhost:8080/",
          "height": 412
        },
        "id": "dCzSlDPONAcB",
        "outputId": "1fd7c10f-fbc6-4239-b9e3-1ea8e24623a5"
      },
      "execution_count": 25,
      "outputs": [
        {
          "output_type": "execute_result",
          "data": {
            "text/plain": [
              "shape: (10, 2)\n",
              "┌───────┬─────────────────────────────────────────────────────────────────────────┐\n",
              "│ index ┆ text                                                                    │\n",
              "│ ---   ┆ ---                                                                     │\n",
              "│ i64   ┆ str                                                                     │\n",
              "╞═══════╪═════════════════════════════════════════════════════════════════════════╡\n",
              "│ 1     ┆ i am interested in the identification and evaluation of novel computer… │\n",
              "│ 2     ┆ i would be interested to receive information on non users of libraries… │\n",
              "│ 3     ┆ i am interested in computer documentation systems for chemical patents… │\n",
              "│ 4     ┆ i would be pleased to receive any information on the use of journals i… │\n",
              "│ 5     ┆ my dissertation is an overview of news databases looking at the availa… │\n",
              "│ 6     ┆ my dissertation is on library outreach for the chinese community in sh… │\n",
              "│ 7     ┆ i would be pleased to receive papers on the security of information in… │\n",
              "│ 8     ┆ i am interested in the professional education of librarians in particu… │\n",
              "│ 9     ┆ i am interested in the extent to which libraries are charging for serv… │\n",
              "│ 10    ┆ i am interested in information on the provision of current awareness b… │\n",
              "└───────┴─────────────────────────────────────────────────────────────────────────┘"
            ],
            "text/html": [
              "<div><style>\n",
              ".dataframe > thead > tr,\n",
              ".dataframe > tbody > tr {\n",
              "  text-align: right;\n",
              "  white-space: pre-wrap;\n",
              "}\n",
              "</style>\n",
              "<small>shape: (10, 2)</small><table border=\"1\" class=\"dataframe\"><thead><tr><th>index</th><th>text</th></tr><tr><td>i64</td><td>str</td></tr></thead><tbody><tr><td>1</td><td>&quot;i am interested in the identification and evaluation of novel computer…</td></tr><tr><td>2</td><td>&quot;i would be interested to receive information on non users of libraries…</td></tr><tr><td>3</td><td>&quot;i am interested in computer documentation systems for chemical patents…</td></tr><tr><td>4</td><td>&quot;i would be pleased to receive any information on the use of journals i…</td></tr><tr><td>5</td><td>&quot;my dissertation is an overview of news databases looking at the availa…</td></tr><tr><td>6</td><td>&quot;my dissertation is on library outreach for the chinese community in sh…</td></tr><tr><td>7</td><td>&quot;i would be pleased to receive papers on the security of information in…</td></tr><tr><td>8</td><td>&quot;i am interested in the professional education of librarians in particu…</td></tr><tr><td>9</td><td>&quot;i am interested in the extent to which libraries are charging for serv…</td></tr><tr><td>10</td><td>&quot;i am interested in information on the provision of current awareness b…</td></tr></tbody></table></div>"
            ]
          },
          "metadata": {},
          "execution_count": 25
        }
      ]
    },
    {
      "cell_type": "markdown",
      "source": [
        "## Tokenization"
      ],
      "metadata": {
        "id": "t3xyX0JCG3cm"
      }
    },
    {
      "cell_type": "code",
      "source": [
        "def tokenize_text(df, text_col=\"text\"):\n",
        "    return df.with_columns(pl.col(text_col).str.split(\" \").alias(\"token\"))"
      ],
      "metadata": {
        "id": "oFQcW43XNYWw"
      },
      "execution_count": 26,
      "outputs": []
    },
    {
      "cell_type": "code",
      "source": [
        "documents_tokenized = tokenize_text(documents_lower)\n",
        "queries_tokenized = tokenize_text(queries_lower)"
      ],
      "metadata": {
        "id": "f6pYBcrJNauy"
      },
      "execution_count": 27,
      "outputs": []
    },
    {
      "cell_type": "code",
      "source": [
        "documents_tokenized.head(10)"
      ],
      "metadata": {
        "colab": {
          "base_uri": "https://localhost:8080/",
          "height": 412
        },
        "id": "wrFEhd9eNhEZ",
        "outputId": "57fac6c2-cfd8-4868-db7f-ff6503da351a"
      },
      "execution_count": 28,
      "outputs": [
        {
          "output_type": "execute_result",
          "data": {
            "text/plain": [
              "shape: (10, 3)\n",
              "┌───────┬─────────────────────────────────────────────┬────────────────────────────────────────────┐\n",
              "│ index ┆ text                                        ┆ token                                      │\n",
              "│ ---   ┆ ---                                         ┆ ---                                        │\n",
              "│ i64   ┆ str                                         ┆ list[str]                                  │\n",
              "╞═══════╪═════════════════════════════════════════════╪════════════════════════════════════════════╡\n",
              "│ 1     ┆ the indian council of library and           ┆ [\"the\", \"indian\", \"council\", \"of\",         │\n",
              "│       ┆ information services research and tr…       ┆ \"library\", \"and\", \"information\", \"s…       │\n",
              "│ 2     ┆ the lingering fragrance proceedings of the  ┆ [\"the\", \"lingering\", \"fragrance\",          │\n",
              "│       ┆ xxiv all india library conf…                ┆ \"proceedings\", \"of\", \"the\", \"xxiv\", …      │\n",
              "│ 3     ┆ xxv all india library conference trivandrum ┆ [\"xxv\", \"all\", \"india\", \"library\",         │\n",
              "│       ┆ may papers and proceedings…                 ┆ \"conference\", \"trivandrum\", \"may\", …       │\n",
              "│ 4     ┆ malawi library association second annual    ┆ [\"malawi\", \"library\", \"association\",       │\n",
              "│       ┆ general meeting chancellor co…              ┆ \"second\", \"annual\", \"general\", \"m…         │\n",
              "│ 5     ┆ a personal view of the zambia library       ┆ [\"a\", \"personal\", \"view\", \"of\", \"the\",     │\n",
              "│       ┆ service personal view of the ser…           ┆ \"zambia\", \"library\", \"service\",…           │\n",
              "│ 6     ┆ cla turning on the power report of          ┆ [\"cla\", \"turning\", \"on\", \"the\", \"power\",   │\n",
              "│       ┆ proceedings of the th annual canadi…        ┆ \"report\", \"of\", \"proceedings\"…             │\n",
              "│ 7     ┆ uncertain beginnings report of the american ┆ [\"uncertain\", \"beginnings\", \"report\",      │\n",
              "│       ┆ library association midwin…                 ┆ \"of\", \"the\", \"american\", \"librar…          │\n",
              "│ 8     ┆ midwinter in reagan s washington an ala     ┆ [\"midwinter\", \"in\", \"reagan\", \"s\",         │\n",
              "│       ┆ conference report report of th…             ┆ \"washington\", \"an\", \"ala\", \"confere…       │\n",
              "│ 9     ┆ the white house conference on library and   ┆ [\"the\", \"white\", \"house\", \"conference\",    │\n",
              "│       ┆ information services summary…               ┆ \"on\", \"library\", \"and\", \"infor…            │\n",
              "│ 10    ┆ information books are just the beginning    ┆ [\"information\", \"books\", \"are\", \"just\",    │\n",
              "│       ┆ the michigan white house conf…              ┆ \"the\", \"beginning\", \"the\", \"mi…            │\n",
              "└───────┴─────────────────────────────────────────────┴────────────────────────────────────────────┘"
            ],
            "text/html": [
              "<div><style>\n",
              ".dataframe > thead > tr,\n",
              ".dataframe > tbody > tr {\n",
              "  text-align: right;\n",
              "  white-space: pre-wrap;\n",
              "}\n",
              "</style>\n",
              "<small>shape: (10, 3)</small><table border=\"1\" class=\"dataframe\"><thead><tr><th>index</th><th>text</th><th>token</th></tr><tr><td>i64</td><td>str</td><td>list[str]</td></tr></thead><tbody><tr><td>1</td><td>&quot;the indian council of library and information services research and tr…</td><td>[&quot;the&quot;, &quot;indian&quot;, &quot;council&quot;, &quot;of&quot;, &quot;library&quot;, &quot;and&quot;, &quot;information&quot;, &quot;services&quot;, &quot;research&quot;, … &quot;librarianship&quot;]</td></tr><tr><td>2</td><td>&quot;the lingering fragrance proceedings of the xxiv all india library conf…</td><td>[&quot;the&quot;, &quot;lingering&quot;, &quot;fragrance&quot;, &quot;proceedings&quot;, &quot;of&quot;, &quot;the&quot;, &quot;xxiv&quot;, &quot;all&quot;, &quot;india&quot;, … &quot;feb&quot;]</td></tr><tr><td>3</td><td>&quot;xxv all india library conference trivandrum may papers and proceedings…</td><td>[&quot;xxv&quot;, &quot;all&quot;, &quot;india&quot;, &quot;library&quot;, &quot;conference&quot;, &quot;trivandrum&quot;, &quot;may&quot;, &quot;papers&quot;, &quot;and&quot;, … &quot;kerala&quot;]</td></tr><tr><td>4</td><td>&quot;malawi library association second annual general meeting chancellor co…</td><td>[&quot;malawi&quot;, &quot;library&quot;, &quot;association&quot;, &quot;second&quot;, &quot;annual&quot;, &quot;general&quot;, &quot;meeting&quot;, &quot;chancellor&quot;, &quot;college&quot;, … &quot;organisations&quot;]</td></tr><tr><td>5</td><td>&quot;a personal view of the zambia library service personal view of the ser…</td><td>[&quot;a&quot;, &quot;personal&quot;, &quot;view&quot;, &quot;of&quot;, &quot;the&quot;, &quot;zambia&quot;, &quot;library&quot;, &quot;service&quot;, &quot;personal&quot;, … &quot;activities&quot;]</td></tr><tr><td>6</td><td>&quot;cla turning on the power report of proceedings of the th annual canadi…</td><td>[&quot;cla&quot;, &quot;turning&quot;, &quot;on&quot;, &quot;the&quot;, &quot;power&quot;, &quot;report&quot;, &quot;of&quot;, &quot;proceedings&quot;, &quot;of&quot;, … &quot;cla&quot;]</td></tr><tr><td>7</td><td>&quot;uncertain beginnings report of the american library association midwin…</td><td>[&quot;uncertain&quot;, &quot;beginnings&quot;, &quot;report&quot;, &quot;of&quot;, &quot;the&quot;, &quot;american&quot;, &quot;library&quot;, &quot;association&quot;, &quot;midwinter&quot;, … &quot;organisations&quot;]</td></tr><tr><td>8</td><td>&quot;midwinter in reagan s washington an ala conference report report of th…</td><td>[&quot;midwinter&quot;, &quot;in&quot;, &quot;reagan&quot;, &quot;s&quot;, &quot;washington&quot;, &quot;an&quot;, &quot;ala&quot;, &quot;conference&quot;, &quot;report&quot;, … &quot;center&quot;]</td></tr><tr><td>9</td><td>&quot;the white house conference on library and information services summary…</td><td>[&quot;the&quot;, &quot;white&quot;, &quot;house&quot;, &quot;conference&quot;, &quot;on&quot;, &quot;library&quot;, &quot;and&quot;, &quot;information&quot;, &quot;services&quot;, … &quot;ntis&quot;]</td></tr><tr><td>10</td><td>&quot;information books are just the beginning the michigan white house conf…</td><td>[&quot;information&quot;, &quot;books&quot;, &quot;are&quot;, &quot;just&quot;, &quot;the&quot;, &quot;beginning&quot;, &quot;the&quot;, &quot;michigan&quot;, &quot;white&quot;, … &quot;ntis&quot;]</td></tr></tbody></table></div>"
            ]
          },
          "metadata": {},
          "execution_count": 28
        }
      ]
    },
    {
      "cell_type": "code",
      "source": [
        "queries_tokenized.head(10)"
      ],
      "metadata": {
        "colab": {
          "base_uri": "https://localhost:8080/",
          "height": 412
        },
        "id": "vAMcw5lLOEKb",
        "outputId": "8dad65aa-0ec5-48ba-c122-473fc027f761"
      },
      "execution_count": 29,
      "outputs": [
        {
          "output_type": "execute_result",
          "data": {
            "text/plain": [
              "shape: (10, 3)\n",
              "┌───────┬─────────────────────────────────────────────┬────────────────────────────────────────────┐\n",
              "│ index ┆ text                                        ┆ token                                      │\n",
              "│ ---   ┆ ---                                         ┆ ---                                        │\n",
              "│ i64   ┆ str                                         ┆ list[str]                                  │\n",
              "╞═══════╪═════════════════════════════════════════════╪════════════════════════════════════════════╡\n",
              "│ 1     ┆ i am interested in the identification and   ┆ [\"i\", \"am\", \"interested\", \"in\", \"the\",     │\n",
              "│       ┆ evaluation of novel computer…               ┆ \"identification\", \"and\", \"evalu…           │\n",
              "│ 2     ┆ i would be interested to receive            ┆ [\"i\", \"would\", \"be\", \"interested\", \"to\",   │\n",
              "│       ┆ information on non users of libraries…      ┆ \"receive\", \"information\", \"on…             │\n",
              "│ 3     ┆ i am interested in computer documentation   ┆ [\"i\", \"am\", \"interested\", \"in\",            │\n",
              "│       ┆ systems for chemical patents…               ┆ \"computer\", \"documentation\", \"systems\"…    │\n",
              "│ 4     ┆ i would be pleased to receive any           ┆ [\"i\", \"would\", \"be\", \"pleased\", \"to\",      │\n",
              "│       ┆ information on the use of journals i…       ┆ \"receive\", \"any\", \"information\",…          │\n",
              "│ 5     ┆ my dissertation is an overview of news      ┆ [\"my\", \"dissertation\", \"is\", \"an\",         │\n",
              "│       ┆ databases looking at the availa…            ┆ \"overview\", \"of\", \"news\", \"database…       │\n",
              "│ 6     ┆ my dissertation is on library outreach for  ┆ [\"my\", \"dissertation\", \"is\", \"on\",         │\n",
              "│       ┆ the chinese community in sh…                ┆ \"library\", \"outreach\", \"for\", \"the\"…       │\n",
              "│ 7     ┆ i would be pleased to receive papers on the ┆ [\"i\", \"would\", \"be\", \"pleased\", \"to\",      │\n",
              "│       ┆ security of information in…                 ┆ \"receive\", \"papers\", \"on\", \"the\"…          │\n",
              "│ 8     ┆ i am interested in the professional         ┆ [\"i\", \"am\", \"interested\", \"in\", \"the\",     │\n",
              "│       ┆ education of librarians in particu…         ┆ \"professional\", \"education\", \"o…           │\n",
              "│ 9     ┆ i am interested in the extent to which      ┆ [\"i\", \"am\", \"interested\", \"in\", \"the\",     │\n",
              "│       ┆ libraries are charging for serv…            ┆ \"extent\", \"to\", \"which\", \"libra…           │\n",
              "│ 10    ┆ i am interested in information on the       ┆ [\"i\", \"am\", \"interested\", \"in\",            │\n",
              "│       ┆ provision of current awareness b…           ┆ \"information\", \"on\", \"the\", \"provision…    │\n",
              "└───────┴─────────────────────────────────────────────┴────────────────────────────────────────────┘"
            ],
            "text/html": [
              "<div><style>\n",
              ".dataframe > thead > tr,\n",
              ".dataframe > tbody > tr {\n",
              "  text-align: right;\n",
              "  white-space: pre-wrap;\n",
              "}\n",
              "</style>\n",
              "<small>shape: (10, 3)</small><table border=\"1\" class=\"dataframe\"><thead><tr><th>index</th><th>text</th><th>token</th></tr><tr><td>i64</td><td>str</td><td>list[str]</td></tr></thead><tbody><tr><td>1</td><td>&quot;i am interested in the identification and evaluation of novel computer…</td><td>[&quot;i&quot;, &quot;am&quot;, &quot;interested&quot;, &quot;in&quot;, &quot;the&quot;, &quot;identification&quot;, &quot;and&quot;, &quot;evaluation&quot;, &quot;of&quot;, … &quot;memory&quot;]</td></tr><tr><td>2</td><td>&quot;i would be interested to receive information on non users of libraries…</td><td>[&quot;i&quot;, &quot;would&quot;, &quot;be&quot;, &quot;interested&quot;, &quot;to&quot;, &quot;receive&quot;, &quot;information&quot;, &quot;on&quot;, &quot;non&quot;, … &quot;studies&quot;]</td></tr><tr><td>3</td><td>&quot;i am interested in computer documentation systems for chemical patents…</td><td>[&quot;i&quot;, &quot;am&quot;, &quot;interested&quot;, &quot;in&quot;, &quot;computer&quot;, &quot;documentation&quot;, &quot;systems&quot;, &quot;for&quot;, &quot;chemical&quot;, … &quot;patents&quot;]</td></tr><tr><td>4</td><td>&quot;i would be pleased to receive any information on the use of journals i…</td><td>[&quot;i&quot;, &quot;would&quot;, &quot;be&quot;, &quot;pleased&quot;, &quot;to&quot;, &quot;receive&quot;, &quot;any&quot;, &quot;information&quot;, &quot;on&quot;, … &quot;libraries&quot;]</td></tr><tr><td>5</td><td>&quot;my dissertation is an overview of news databases looking at the availa…</td><td>[&quot;my&quot;, &quot;dissertation&quot;, &quot;is&quot;, &quot;an&quot;, &quot;overview&quot;, &quot;of&quot;, &quot;news&quot;, &quot;databases&quot;, &quot;looking&quot;, … &quot;reporter&quot;]</td></tr><tr><td>6</td><td>&quot;my dissertation is on library outreach for the chinese community in sh…</td><td>[&quot;my&quot;, &quot;dissertation&quot;, &quot;is&quot;, &quot;on&quot;, &quot;library&quot;, &quot;outreach&quot;, &quot;for&quot;, &quot;the&quot;, &quot;chinese&quot;, … &quot;society&quot;]</td></tr><tr><td>7</td><td>&quot;i would be pleased to receive papers on the security of information in…</td><td>[&quot;i&quot;, &quot;would&quot;, &quot;be&quot;, &quot;pleased&quot;, &quot;to&quot;, &quot;receive&quot;, &quot;papers&quot;, &quot;on&quot;, &quot;the&quot;, … &quot;access&quot;]</td></tr><tr><td>8</td><td>&quot;i am interested in the professional education of librarians in particu…</td><td>[&quot;i&quot;, &quot;am&quot;, &quot;interested&quot;, &quot;in&quot;, &quot;the&quot;, &quot;professional&quot;, &quot;education&quot;, &quot;of&quot;, &quot;librarians&quot;, … &quot;education&quot;]</td></tr><tr><td>9</td><td>&quot;i am interested in the extent to which libraries are charging for serv…</td><td>[&quot;i&quot;, &quot;am&quot;, &quot;interested&quot;, &quot;in&quot;, &quot;the&quot;, &quot;extent&quot;, &quot;to&quot;, &quot;which&quot;, &quot;libraries&quot;, … &quot;services&quot;]</td></tr><tr><td>10</td><td>&quot;i am interested in information on the provision of current awareness b…</td><td>[&quot;i&quot;, &quot;am&quot;, &quot;interested&quot;, &quot;in&quot;, &quot;information&quot;, &quot;on&quot;, &quot;the&quot;, &quot;provision&quot;, &quot;of&quot;, … &quot;bulletins&quot;]</td></tr></tbody></table></div>"
            ]
          },
          "metadata": {},
          "execution_count": 29
        }
      ]
    },
    {
      "cell_type": "markdown",
      "source": [
        "## Word Counting"
      ],
      "metadata": {
        "id": "iKayP3biOJMh"
      }
    },
    {
      "cell_type": "code",
      "source": [
        "def count_words(df, token_col=\"token\"):\n",
        "    all_tokens = [word for tokens in df[token_col].to_list() for word in tokens if word != \"\"]\n",
        "    word_counts = Counter(all_tokens)\n",
        "    unique_words = set(word_counts.keys())\n",
        "    return pl.DataFrame({\"word\": list(word_counts.keys()), \"count\": list(word_counts.values())}).sort(\"count\", descending=True), len(unique_words)"
      ],
      "metadata": {
        "id": "-FO6ZVk9OSmQ"
      },
      "execution_count": 43,
      "outputs": []
    },
    {
      "cell_type": "code",
      "source": [
        "documents_counted, documents_uniqe = count_words(documents_tokenized)\n",
        "queries_counted, queries_uniqe = count_words(queries_tokenized)"
      ],
      "metadata": {
        "id": "rSTrtnvLPIaA"
      },
      "execution_count": 44,
      "outputs": []
    },
    {
      "cell_type": "code",
      "source": [
        "documents_uniqe"
      ],
      "metadata": {
        "colab": {
          "base_uri": "https://localhost:8080/"
        },
        "id": "Dn-boC8UgAks",
        "outputId": "494bbe45-eb18-4c71-ed1e-7e379a09e657"
      },
      "execution_count": 45,
      "outputs": [
        {
          "output_type": "execute_result",
          "data": {
            "text/plain": [
              "17654"
            ]
          },
          "metadata": {},
          "execution_count": 45
        }
      ]
    },
    {
      "cell_type": "code",
      "source": [
        "queries_uniqe"
      ],
      "metadata": {
        "colab": {
          "base_uri": "https://localhost:8080/"
        },
        "id": "oe3i07eLgCsN",
        "outputId": "78b07308-22b7-4a28-da51-9afec2ebc0c0"
      },
      "execution_count": 46,
      "outputs": [
        {
          "output_type": "execute_result",
          "data": {
            "text/plain": [
              "585"
            ]
          },
          "metadata": {},
          "execution_count": 46
        }
      ]
    },
    {
      "cell_type": "code",
      "source": [
        "documents_counted.head(10)"
      ],
      "metadata": {
        "colab": {
          "base_uri": "https://localhost:8080/",
          "height": 412
        },
        "id": "vcxkagH9PMu3",
        "outputId": "652745eb-4f92-4d3c-bedb-1d4ab5b02ab3"
      },
      "execution_count": 32,
      "outputs": [
        {
          "output_type": "execute_result",
          "data": {
            "text/plain": [
              "shape: (10, 2)\n",
              "┌─────────────┬───────┐\n",
              "│ word        ┆ count │\n",
              "│ ---         ┆ ---   │\n",
              "│ str         ┆ i64   │\n",
              "╞═════════════╪═══════╡\n",
              "│ the         ┆ 41413 │\n",
              "│ of          ┆ 30371 │\n",
              "│ and         ┆ 24998 │\n",
              "│ in          ┆ 15028 │\n",
              "│ to          ┆ 12146 │\n",
              "│ a           ┆ 11591 │\n",
              "│ library     ┆ 8693  │\n",
              "│ for         ┆ 7981  │\n",
              "│ information ┆ 5670  │\n",
              "│ on          ┆ 5386  │\n",
              "└─────────────┴───────┘"
            ],
            "text/html": [
              "<div><style>\n",
              ".dataframe > thead > tr,\n",
              ".dataframe > tbody > tr {\n",
              "  text-align: right;\n",
              "  white-space: pre-wrap;\n",
              "}\n",
              "</style>\n",
              "<small>shape: (10, 2)</small><table border=\"1\" class=\"dataframe\"><thead><tr><th>word</th><th>count</th></tr><tr><td>str</td><td>i64</td></tr></thead><tbody><tr><td>&quot;the&quot;</td><td>41413</td></tr><tr><td>&quot;of&quot;</td><td>30371</td></tr><tr><td>&quot;and&quot;</td><td>24998</td></tr><tr><td>&quot;in&quot;</td><td>15028</td></tr><tr><td>&quot;to&quot;</td><td>12146</td></tr><tr><td>&quot;a&quot;</td><td>11591</td></tr><tr><td>&quot;library&quot;</td><td>8693</td></tr><tr><td>&quot;for&quot;</td><td>7981</td></tr><tr><td>&quot;information&quot;</td><td>5670</td></tr><tr><td>&quot;on&quot;</td><td>5386</td></tr></tbody></table></div>"
            ]
          },
          "metadata": {},
          "execution_count": 32
        }
      ]
    },
    {
      "cell_type": "code",
      "source": [
        "queries_counted.head(10)"
      ],
      "metadata": {
        "colab": {
          "base_uri": "https://localhost:8080/",
          "height": 412
        },
        "id": "OttpMqttPcsY",
        "outputId": "12d7ba1a-38dd-4f34-c7cd-380c16cf8bd5"
      },
      "execution_count": 33,
      "outputs": [
        {
          "output_type": "execute_result",
          "data": {
            "text/plain": [
              "shape: (10, 2)\n",
              "┌─────────────┬───────┐\n",
              "│ word        ┆ count │\n",
              "│ ---         ┆ ---   │\n",
              "│ str         ┆ i64   │\n",
              "╞═════════════╪═══════╡\n",
              "│ in          ┆ 78    │\n",
              "│ of          ┆ 78    │\n",
              "│ the         ┆ 72    │\n",
              "│ and         ┆ 62    │\n",
              "│ i           ┆ 55    │\n",
              "│ information ┆ 53    │\n",
              "│ am          ┆ 31    │\n",
              "│ interested  ┆ 31    │\n",
              "│ on          ┆ 30    │\n",
              "│ to          ┆ 29    │\n",
              "└─────────────┴───────┘"
            ],
            "text/html": [
              "<div><style>\n",
              ".dataframe > thead > tr,\n",
              ".dataframe > tbody > tr {\n",
              "  text-align: right;\n",
              "  white-space: pre-wrap;\n",
              "}\n",
              "</style>\n",
              "<small>shape: (10, 2)</small><table border=\"1\" class=\"dataframe\"><thead><tr><th>word</th><th>count</th></tr><tr><td>str</td><td>i64</td></tr></thead><tbody><tr><td>&quot;in&quot;</td><td>78</td></tr><tr><td>&quot;of&quot;</td><td>78</td></tr><tr><td>&quot;the&quot;</td><td>72</td></tr><tr><td>&quot;and&quot;</td><td>62</td></tr><tr><td>&quot;i&quot;</td><td>55</td></tr><tr><td>&quot;information&quot;</td><td>53</td></tr><tr><td>&quot;am&quot;</td><td>31</td></tr><tr><td>&quot;interested&quot;</td><td>31</td></tr><tr><td>&quot;on&quot;</td><td>30</td></tr><tr><td>&quot;to&quot;</td><td>29</td></tr></tbody></table></div>"
            ]
          },
          "metadata": {},
          "execution_count": 33
        }
      ]
    },
    {
      "cell_type": "markdown",
      "source": [
        "## Show Zipf Law"
      ],
      "metadata": {
        "id": "ueVghj2UPm7g"
      }
    },
    {
      "cell_type": "code",
      "source": [
        "def plot_zipf_distribution(word_freq_df):\n",
        "    ranks = np.arange(1, len(word_freq_df) + 1)\n",
        "    frequencies = word_freq_df[\"count\"].to_numpy()\n",
        "\n",
        "    plt.figure(figsize=(6, 3))\n",
        "    plt.loglog(ranks, frequencies, marker=\"o\", linestyle=\"none\", label=\"Observed Data\")\n",
        "    plt.xlabel(\"Rank (log)\")\n",
        "    plt.ylabel(\"Frequency (log)\")\n",
        "    plt.title(\"Zipf's Law Distribution of Word Frequencies\")\n",
        "    plt.legend()\n",
        "    plt.grid(True)\n",
        "    plt.show()"
      ],
      "metadata": {
        "id": "d85vfXpLPq5X"
      },
      "execution_count": 35,
      "outputs": []
    },
    {
      "cell_type": "code",
      "source": [
        "plot_zipf_distribution(documents_counted)"
      ],
      "metadata": {
        "colab": {
          "base_uri": "https://localhost:8080/",
          "height": 338
        },
        "id": "H9cYtlpvP4pn",
        "outputId": "b0b64738-e055-49be-cc8d-3f7fa0b07f6e"
      },
      "execution_count": 36,
      "outputs": [
        {
          "output_type": "display_data",
          "data": {
            "text/plain": [
              "<Figure size 600x300 with 1 Axes>"
            ],
            "image/png": "[encoded data removed]"
          },
          "metadata": {}
        }
      ]
    },
    {
      "cell_type": "code",
      "source": [
        "plot_zipf_distribution(queries_counted)"
      ],
      "metadata": {
        "colab": {
          "base_uri": "https://localhost:8080/",
          "height": 338
        },
        "id": "oiVBY4RBgKvi",
        "outputId": "af606051-3da8-4d50-e7e3-897328284cf3"
      },
      "execution_count": 47,
      "outputs": [
        {
          "output_type": "display_data",
          "data": {
            "text/plain": [
              "<Figure size 600x300 with 1 Axes>"
            ],
            "image/png": "[encoded data removed]"
          },
          "metadata": {}
        }
      ]
    },
    {
      "cell_type": "markdown",
      "source": [
        "## Calculate stop and steⅿⅿing words"
      ],
      "metadata": {
        "id": "YLD-7lqrP_wq"
      }
    },
    {
      "cell_type": "code",
      "source": [
        "def filter_words_by_frequency(word_freq_df, min_count=25, max_count_ratio=0.01):\n",
        "    total_words = word_freq_df[\"count\"].sum()\n",
        "    max_count = total_words * max_count_ratio\n",
        "\n",
        "    filtered_df = word_freq_df.filter(\n",
        "        (pl.col(\"count\") >= min_count) &\n",
        "        (pl.col(\"count\") <= max_count)\n",
        "    )\n",
        "\n",
        "    removed_words = set(word_freq_df[\"word\"].to_list()) - set(filtered_df[\"word\"].to_list())\n",
        "    removed_words.add(\"\")\n",
        "    return filtered_df, removed_words"
      ],
      "metadata": {
        "id": "Zz4KjmtOQE8e"
      },
      "execution_count": 48,
      "outputs": []
    },
    {
      "cell_type": "code",
      "source": [
        "_, removal_words = filter_words_by_frequency(documents_counted)\n",
        "\n",
        "documents_removed = documents_counted.filter(\n",
        "    ~pl.col(\"word\").is_in(list(removal_words))\n",
        ")\n",
        "\n",
        "queries_removed = queries_counted.filter(\n",
        "    ~pl.col(\"word\").is_in(list(removal_words))\n",
        ")"
      ],
      "metadata": {
        "id": "Uq5bnZIzQUb3"
      },
      "execution_count": 49,
      "outputs": []
    },
    {
      "cell_type": "code",
      "source": [
        "documents_removed.head(10)"
      ],
      "metadata": {
        "colab": {
          "base_uri": "https://localhost:8080/",
          "height": 412
        },
        "id": "ojvhkV9vQstt",
        "outputId": "ac17dde7-1a0b-442a-ef92-212b866176ba"
      },
      "execution_count": 50,
      "outputs": [
        {
          "output_type": "execute_result",
          "data": {
            "text/plain": [
              "shape: (10, 2)\n",
              "┌───────────┬───────┐\n",
              "│ word      ┆ count │\n",
              "│ ---       ┆ ---   │\n",
              "│ str       ┆ i64   │\n",
              "╞═══════════╪═══════╡\n",
              "│ on        ┆ 5386  │\n",
              "│ is        ┆ 4958  │\n",
              "│ libraries ┆ 4632  │\n",
              "│ are       ┆ 4145  │\n",
              "│ by        ┆ 4038  │\n",
              "│ with      ┆ 3606  │\n",
              "│ as        ┆ 2865  │\n",
              "│ s         ┆ 2812  │\n",
              "│ an        ┆ 2633  │\n",
              "│ be        ┆ 2620  │\n",
              "└───────────┴───────┘"
            ],
            "text/html": [
              "<div><style>\n",
              ".dataframe > thead > tr,\n",
              ".dataframe > tbody > tr {\n",
              "  text-align: right;\n",
              "  white-space: pre-wrap;\n",
              "}\n",
              "</style>\n",
              "<small>shape: (10, 2)</small><table border=\"1\" class=\"dataframe\"><thead><tr><th>word</th><th>count</th></tr><tr><td>str</td><td>i64</td></tr></thead><tbody><tr><td>&quot;on&quot;</td><td>5386</td></tr><tr><td>&quot;is&quot;</td><td>4958</td></tr><tr><td>&quot;libraries&quot;</td><td>4632</td></tr><tr><td>&quot;are&quot;</td><td>4145</td></tr><tr><td>&quot;by&quot;</td><td>4038</td></tr><tr><td>&quot;with&quot;</td><td>3606</td></tr><tr><td>&quot;as&quot;</td><td>2865</td></tr><tr><td>&quot;s&quot;</td><td>2812</td></tr><tr><td>&quot;an&quot;</td><td>2633</td></tr><tr><td>&quot;be&quot;</td><td>2620</td></tr></tbody></table></div>"
            ]
          },
          "metadata": {},
          "execution_count": 50
        }
      ]
    },
    {
      "cell_type": "code",
      "source": [
        "queries_removed.head(10)"
      ],
      "metadata": {
        "colab": {
          "base_uri": "https://localhost:8080/",
          "height": 412
        },
        "id": "n0sHhKl5QtKX",
        "outputId": "33b73a46-2f32-4762-f69b-b6f8a0c848e6"
      },
      "execution_count": 51,
      "outputs": [
        {
          "output_type": "execute_result",
          "data": {
            "text/plain": [
              "shape: (10, 2)\n",
              "┌────────────┬───────┐\n",
              "│ word       ┆ count │\n",
              "│ ---        ┆ ---   │\n",
              "│ str        ┆ i64   │\n",
              "╞════════════╪═══════╡\n",
              "│ i          ┆ 55    │\n",
              "│ interested ┆ 31    │\n",
              "│ on         ┆ 30    │\n",
              "│ libraries  ┆ 29    │\n",
              "│ be         ┆ 25    │\n",
              "│ would      ┆ 21    │\n",
              "│ systems    ┆ 21    │\n",
              "│ or         ┆ 18    │\n",
              "│ any        ┆ 18    │\n",
              "│ education  ┆ 14    │\n",
              "└────────────┴───────┘"
            ],
            "text/html": [
              "<div><style>\n",
              ".dataframe > thead > tr,\n",
              ".dataframe > tbody > tr {\n",
              "  text-align: right;\n",
              "  white-space: pre-wrap;\n",
              "}\n",
              "</style>\n",
              "<small>shape: (10, 2)</small><table border=\"1\" class=\"dataframe\"><thead><tr><th>word</th><th>count</th></tr><tr><td>str</td><td>i64</td></tr></thead><tbody><tr><td>&quot;i&quot;</td><td>55</td></tr><tr><td>&quot;interested&quot;</td><td>31</td></tr><tr><td>&quot;on&quot;</td><td>30</td></tr><tr><td>&quot;libraries&quot;</td><td>29</td></tr><tr><td>&quot;be&quot;</td><td>25</td></tr><tr><td>&quot;would&quot;</td><td>21</td></tr><tr><td>&quot;systems&quot;</td><td>21</td></tr><tr><td>&quot;or&quot;</td><td>18</td></tr><tr><td>&quot;any&quot;</td><td>18</td></tr><tr><td>&quot;education&quot;</td><td>14</td></tr></tbody></table></div>"
            ]
          },
          "metadata": {},
          "execution_count": 51
        }
      ]
    },
    {
      "cell_type": "code",
      "source": [
        "removal_words"
      ],
      "metadata": {
        "colab": {
          "base_uri": "https://localhost:8080/"
        },
        "id": "K2ReL9p2RFVe",
        "outputId": "ad6cc6f1-eaac-4f46-eee0-b505d3b599a4"
      },
      "execution_count": 52,
      "outputs": [
        {
          "output_type": "execute_result",
          "data": {
            "text/plain": [
              "{'',\n",
              " 'crosspoint',\n",
              " 'regionally',\n",
              " 'bs',\n",
              " 'sni',\n",
              " 'ceefax',\n",
              " 'monacenses',\n",
              " 'grigg',\n",
              " 'favourites',\n",
              " 'belvoir',\n",
              " 'hedwig',\n",
              " 'kommune',\n",
              " 'threads',\n",
              " 'executed',\n",
              " 'cohesion',\n",
              " 'plant',\n",
              " 'regretfully',\n",
              " 'iniss',\n",
              " 'sutton',\n",
              " 'chronicle',\n",
              " 'wandsworth',\n",
              " 'mime',\n",
              " 'interprocess',\n",
              " 'exhausted',\n",
              " 'modellification',\n",
              " 'commentary',\n",
              " 'inept',\n",
              " 'marjorie',\n",
              " 'counted',\n",
              " 'republication',\n",
              " 'justly',\n",
              " 'imagined',\n",
              " 'manuals',\n",
              " 'casin',\n",
              " 'teleprinter',\n",
              " 'supreme',\n",
              " 'indications',\n",
              " 'positively',\n",
              " 'lesson',\n",
              " 'curve',\n",
              " 'william',\n",
              " 'red',\n",
              " 'treatise',\n",
              " 'richest',\n",
              " 'dismissals',\n",
              " 'vineyards',\n",
              " 'profess',\n",
              " 'sdk',\n",
              " 'blld',\n",
              " 'lippmann',\n",
              " 'cr',\n",
              " 'hygiene',\n",
              " 'isn',\n",
              " 'nicolay',\n",
              " 'mountainous',\n",
              " 'inspection',\n",
              " 'specified',\n",
              " 'wish',\n",
              " 'indies',\n",
              " 'yankee',\n",
              " 'banbury',\n",
              " 'eutin',\n",
              " 'impediment',\n",
              " 'phantom',\n",
              " 'clergy',\n",
              " 'biased',\n",
              " 'typing',\n",
              " 'drcs',\n",
              " 'undertook',\n",
              " 'convenient',\n",
              " 'tanganyika',\n",
              " 'breivik',\n",
              " 'heslegrave',\n",
              " 'entailed',\n",
              " 'dwellers',\n",
              " 'chadwyck',\n",
              " 'sh',\n",
              " 'happiness',\n",
              " 'superex',\n",
              " 'disturbed',\n",
              " 'saxony',\n",
              " 'sign',\n",
              " 'king',\n",
              " 'victorian',\n",
              " 'composite',\n",
              " 'inaction',\n",
              " 'theese',\n",
              " 'keypunched',\n",
              " 'documenting',\n",
              " 'belt',\n",
              " 'bilateral',\n",
              " 'minilibraries',\n",
              " 'circulated',\n",
              " 'coast',\n",
              " 'graduates',\n",
              " 'atex',\n",
              " 'incunabula',\n",
              " 'mahon',\n",
              " 'subscriptions',\n",
              " 'moisil',\n",
              " 'mixture',\n",
              " 'allerton',\n",
              " 'alliance',\n",
              " 'dispatches',\n",
              " 'islamicus',\n",
              " 'organizational',\n",
              " 'predicting',\n",
              " 'guild',\n",
              " 'dropouts',\n",
              " 'nonusers',\n",
              " 'stationery',\n",
              " 'headed',\n",
              " 'bello',\n",
              " 'mclean',\n",
              " 'aidoc',\n",
              " 'inordinately',\n",
              " 'twelve',\n",
              " 'pauses',\n",
              " 'exhausts',\n",
              " 'augmentation',\n",
              " 'controller',\n",
              " 'joel',\n",
              " 'ou',\n",
              " 'syktyvkar',\n",
              " 'pcrc',\n",
              " 'hungarika',\n",
              " 'bull',\n",
              " 'southall',\n",
              " 'invention',\n",
              " 'arkansas',\n",
              " 'amidst',\n",
              " 'kyndborg',\n",
              " 'redeveloping',\n",
              " 'topical',\n",
              " 'estimations',\n",
              " 'hofmann',\n",
              " 'comic',\n",
              " 'iaald',\n",
              " 'abilities',\n",
              " 'qualify',\n",
              " 'princetown',\n",
              " 'photographer',\n",
              " 'executer',\n",
              " 'plausible',\n",
              " 'mantua',\n",
              " 'awakening',\n",
              " 'deeper',\n",
              " 'suffices',\n",
              " 'misused',\n",
              " 'presumed',\n",
              " 'everywhere',\n",
              " 'visiting',\n",
              " 'segmentation',\n",
              " 'lazard',\n",
              " 'ababa',\n",
              " 'rhode',\n",
              " 'mature',\n",
              " 'encyclopedias',\n",
              " 'westphalian',\n",
              " 'hyperbolic',\n",
              " 'matthew',\n",
              " 'fading',\n",
              " 'incrementalism',\n",
              " 'cartobibliography',\n",
              " 'detection',\n",
              " 'undercapacity',\n",
              " 'subsection',\n",
              " 'timesharing',\n",
              " 'danks',\n",
              " 'parkside',\n",
              " 'confidently',\n",
              " 'boulder',\n",
              " 'evolutionary',\n",
              " 'un',\n",
              " 'anguilla',\n",
              " 'rhine',\n",
              " 'culmination',\n",
              " 'manfred',\n",
              " 'pocket',\n",
              " 'pipe',\n",
              " 'wills',\n",
              " 'contracts',\n",
              " 'theological',\n",
              " 'annexes',\n",
              " 'och',\n",
              " 'nedcs',\n",
              " 'pamphlets',\n",
              " 'vincent',\n",
              " 'dedication',\n",
              " 'permit',\n",
              " 'ugro',\n",
              " 'berkshire',\n",
              " 'slimmer',\n",
              " 'cds',\n",
              " 'securing',\n",
              " 'arrive',\n",
              " 'decreasing',\n",
              " 'buchereien',\n",
              " 'upbringing',\n",
              " 'competing',\n",
              " 'cai',\n",
              " 'remedies',\n",
              " 'cylinders',\n",
              " 'judging',\n",
              " 'onference',\n",
              " 'bd',\n",
              " 'millions',\n",
              " 'packard',\n",
              " 'recollected',\n",
              " 'minimal',\n",
              " 'complexities',\n",
              " 'teletransmission',\n",
              " 'encompass',\n",
              " 'random',\n",
              " 'theatre',\n",
              " 'politicans',\n",
              " 'tranquility',\n",
              " 'origins',\n",
              " 'aerial',\n",
              " 'eradication',\n",
              " 'locality',\n",
              " 'lately',\n",
              " 'helpers',\n",
              " 'unionised',\n",
              " 'dale',\n",
              " 'descriptively',\n",
              " 'retarded',\n",
              " 'mi',\n",
              " 'utterances',\n",
              " 'mity',\n",
              " 'malvern',\n",
              " 'multiples',\n",
              " 'reska',\n",
              " 'rita',\n",
              " 'steadily',\n",
              " 'pleasant',\n",
              " 'noordoostpolder',\n",
              " 'filipiniana',\n",
              " 'attempting',\n",
              " 'cinematographers',\n",
              " 'oversimplified',\n",
              " 'alfredo',\n",
              " 'pose',\n",
              " 'meteorological',\n",
              " 'drawbacks',\n",
              " 'juel',\n",
              " 'ricardo',\n",
              " 'africana',\n",
              " 'edc',\n",
              " 'vlaardingen',\n",
              " 'sacrificing',\n",
              " 'smirnov',\n",
              " 'topicality',\n",
              " 'validated',\n",
              " 'notify',\n",
              " 'goteborg',\n",
              " 'charities',\n",
              " 'fellow',\n",
              " 'xiii',\n",
              " 'trustworthy',\n",
              " 'compliance',\n",
              " 'delegates',\n",
              " 'cartridges',\n",
              " 'fear',\n",
              " 'sustainers',\n",
              " 'majesty',\n",
              " 'musicians',\n",
              " 'images',\n",
              " 'nonresident',\n",
              " 'expectancy',\n",
              " 'asfis',\n",
              " 'jumping',\n",
              " 'mt',\n",
              " 'pacemakers',\n",
              " 'shipping',\n",
              " 'matrices',\n",
              " 'diagnostics',\n",
              " 'wiltshire',\n",
              " 'notions',\n",
              " 'regrettable',\n",
              " 'hitting',\n",
              " 'scossi',\n",
              " 'childhood',\n",
              " 'mcbeath',\n",
              " 'dramatically',\n",
              " 'promoted',\n",
              " 'uppermost',\n",
              " 'ebert',\n",
              " 'centric',\n",
              " 'margare',\n",
              " 'comparions',\n",
              " 'quite',\n",
              " 'desirability',\n",
              " 'detrimental',\n",
              " 'maidstone',\n",
              " 'stockton',\n",
              " 'occupational',\n",
              " 'nettie',\n",
              " 'inhibited',\n",
              " 'underlay',\n",
              " 'lost',\n",
              " 'stolen',\n",
              " 'trust',\n",
              " 'konstanz',\n",
              " 'portrait',\n",
              " 'mailings',\n",
              " 'zweemann',\n",
              " 'tmj',\n",
              " 'preschool',\n",
              " 'enthusiastic',\n",
              " 'assembling',\n",
              " 'neuroscience',\n",
              " 'indispensible',\n",
              " 'mimeographed',\n",
              " 'recipient',\n",
              " 'metal',\n",
              " 'weightings',\n",
              " 'rotting',\n",
              " 'constructively',\n",
              " 'butterworths',\n",
              " 'characterised',\n",
              " 'relief',\n",
              " 'agroindustries',\n",
              " 'switched',\n",
              " 'ama',\n",
              " 'evenings',\n",
              " 'earned',\n",
              " 'opted',\n",
              " 'me',\n",
              " 'utilised',\n",
              " 'organ',\n",
              " 'hunch',\n",
              " 'correspond',\n",
              " 'pertinent',\n",
              " 'finp',\n",
              " 'ller',\n",
              " 'cutpoint',\n",
              " 'solitary',\n",
              " 'lakewood',\n",
              " 'qwerty',\n",
              " 'degrees',\n",
              " 'bookmobiles',\n",
              " 'dependencies',\n",
              " 'blackwell',\n",
              " 'della',\n",
              " 'eport',\n",
              " 'donate',\n",
              " 'fuller',\n",
              " 'toller',\n",
              " 'parish',\n",
              " 'candidates',\n",
              " 'commended',\n",
              " 'sutz',\n",
              " 'staatsbibliothek',\n",
              " 'referencing',\n",
              " 'island',\n",
              " 'unifying',\n",
              " 'binkley',\n",
              " 'enrolments',\n",
              " 'associativity',\n",
              " 'obsolete',\n",
              " 'teletel',\n",
              " 'aforementioned',\n",
              " 'christi',\n",
              " 'produces',\n",
              " 'opinion',\n",
              " 'greenock',\n",
              " 'geared',\n",
              " 'hypothesises',\n",
              " 'reactant',\n",
              " 'designer',\n",
              " 'converters',\n",
              " 'burgeoning',\n",
              " 'luxury',\n",
              " 'monies',\n",
              " 'staffed',\n",
              " 'begin',\n",
              " 'lessen',\n",
              " 'epistemological',\n",
              " 'bias',\n",
              " 'studencheskoe',\n",
              " 'disappointed',\n",
              " 'loopholes',\n",
              " 'tempted',\n",
              " 'bookfund',\n",
              " 'threaten',\n",
              " 'asti',\n",
              " 'conversations',\n",
              " 'pan',\n",
              " 'eduardo',\n",
              " 'uzbekistan',\n",
              " 'desiderata',\n",
              " 'caramate',\n",
              " 'synonymy',\n",
              " 'mines',\n",
              " 'manipulability',\n",
              " 'encounters',\n",
              " 'elsie',\n",
              " 'lenyra',\n",
              " 'labels',\n",
              " 'licensed',\n",
              " 'multiingual',\n",
              " 'scepticism',\n",
              " 'housing',\n",
              " 'linear',\n",
              " 'honorifics',\n",
              " 'episcopes',\n",
              " 'atlas',\n",
              " 'alster',\n",
              " 'csc',\n",
              " 'vims',\n",
              " 'liberty',\n",
              " 'techology',\n",
              " 'echnical',\n",
              " 'beware',\n",
              " 'preceded',\n",
              " 'uncstd',\n",
              " 'categorising',\n",
              " 'library',\n",
              " 'pva',\n",
              " 'rivalry',\n",
              " 'awakened',\n",
              " 'sule',\n",
              " 'belief',\n",
              " 'belgian',\n",
              " 'smoothing',\n",
              " 'mandate',\n",
              " 'poison',\n",
              " 'herein',\n",
              " 'composing',\n",
              " 'disrupted',\n",
              " 'fjell',\n",
              " 'extant',\n",
              " 'disability',\n",
              " 'disasters',\n",
              " 'harrod',\n",
              " 'fell',\n",
              " 'copes',\n",
              " 'azariah',\n",
              " 'steels',\n",
              " 'releasing',\n",
              " 'sukiasian',\n",
              " 'mccormick',\n",
              " 'renovation',\n",
              " 'arithmetic',\n",
              " 'gamut',\n",
              " 'minors',\n",
              " 'nulos',\n",
              " 'honorary',\n",
              " 'chifley',\n",
              " 'forsyth',\n",
              " 'transcripts',\n",
              " 'ratepayers',\n",
              " 'familiarity',\n",
              " 'hodges',\n",
              " 'thermographic',\n",
              " 'annoyances',\n",
              " 'benton',\n",
              " 'circumstance',\n",
              " 'stabilised',\n",
              " 'poverty',\n",
              " 'aere',\n",
              " 'wisswesser',\n",
              " 'accompaniment',\n",
              " 'implied',\n",
              " 'star',\n",
              " 'mro',\n",
              " 'separation',\n",
              " 'alpha',\n",
              " 'presenter',\n",
              " 'spanned',\n",
              " 'tourist',\n",
              " 'mouse',\n",
              " 'orlando',\n",
              " 'shulman',\n",
              " 'pyramid',\n",
              " 'restraints',\n",
              " 'ian',\n",
              " 'men',\n",
              " 'bowdoin',\n",
              " 'freiburg',\n",
              " 'angermann',\n",
              " 'expressively',\n",
              " 'makeup',\n",
              " 'begins',\n",
              " 'greek',\n",
              " 'chronological',\n",
              " 'edvard',\n",
              " 'awln',\n",
              " 'zentrum',\n",
              " 'issn',\n",
              " 'abacon',\n",
              " 'sensitive',\n",
              " 'harboring',\n",
              " 'julia',\n",
              " 'unsatisfactory',\n",
              " 'gospels',\n",
              " 'examinations',\n",
              " 'enclosed',\n",
              " 'headphones',\n",
              " 'characterising',\n",
              " 'peripherally',\n",
              " 'reassess',\n",
              " 'barracks',\n",
              " 'competency',\n",
              " 'hardy',\n",
              " 'photoreproductions',\n",
              " 'buying',\n",
              " 'bagari',\n",
              " 'prejud',\n",
              " 'rodovre',\n",
              " 'differenes',\n",
              " 'exemption',\n",
              " 'constituent',\n",
              " 'wells',\n",
              " 'drawers',\n",
              " 'discographies',\n",
              " 'panama',\n",
              " 'counterrevolution',\n",
              " 'hooked',\n",
              " 'laboring',\n",
              " 'abcd',\n",
              " 'fungi',\n",
              " 'jamal',\n",
              " 'toxicological',\n",
              " 'bar',\n",
              " 'marxist',\n",
              " 'allergic',\n",
              " 'administracion',\n",
              " 'proc',\n",
              " 'thin',\n",
              " 'usp',\n",
              " 'sociedad',\n",
              " 'sannwald',\n",
              " 'kirkegaard',\n",
              " 'considerably',\n",
              " 'grande',\n",
              " 'intention',\n",
              " 'rugged',\n",
              " 'cdrgp',\n",
              " 'acquisitioning',\n",
              " 'preselecting',\n",
              " 'transitions',\n",
              " 'unaffected',\n",
              " 'crosses',\n",
              " 'herman',\n",
              " 'dry',\n",
              " 'planalsucar',\n",
              " 'ucation',\n",
              " 'consciousness',\n",
              " 'semiconductors',\n",
              " 'philology',\n",
              " 'hothouse',\n",
              " 'accurately',\n",
              " 'deficit',\n",
              " 'microimage',\n",
              " 'directories',\n",
              " 'overwhelm',\n",
              " 'wednesdays',\n",
              " 'corridor',\n",
              " 'drive',\n",
              " 'bisac',\n",
              " 'roskild',\n",
              " 'birthplace',\n",
              " 'heterocycles',\n",
              " 'convent',\n",
              " 'calculation',\n",
              " 'equipped',\n",
              " 'moldavian',\n",
              " 'barclay',\n",
              " 'presse',\n",
              " 'filings',\n",
              " 'utlanings',\n",
              " 'birth',\n",
              " 'breast',\n",
              " 'fuels',\n",
              " 'artifacts',\n",
              " 'stocking',\n",
              " 'poster',\n",
              " 'butler',\n",
              " 'indochinese',\n",
              " 'ina',\n",
              " 'linda',\n",
              " 'chuvashiya',\n",
              " 'amounted',\n",
              " 'najaf',\n",
              " 'kanuzu',\n",
              " 'sfry',\n",
              " 'levelled',\n",
              " 'servives',\n",
              " 'acknowledges',\n",
              " 'understandings',\n",
              " 'gazetteers',\n",
              " 'violent',\n",
              " 'resigned',\n",
              " 'gazetteer',\n",
              " 'debuts',\n",
              " 'mediocrity',\n",
              " 'mills',\n",
              " 'respublikanskaya',\n",
              " 'pa',\n",
              " 'answering',\n",
              " 'osnashcheniyu',\n",
              " 'mutagenicity',\n",
              " 'bettison',\n",
              " 'throw',\n",
              " 'telling',\n",
              " 'variants',\n",
              " 'denial',\n",
              " 'puppet',\n",
              " 'musicological',\n",
              " 'der',\n",
              " 'iia',\n",
              " 'excerpted',\n",
              " 'radion',\n",
              " 'swift',\n",
              " 'ap',\n",
              " 'pollution',\n",
              " 'eastel',\n",
              " 'hvidovre',\n",
              " 'publicly',\n",
              " 'connectedness',\n",
              " 'praise',\n",
              " 'discretion',\n",
              " 'effected',\n",
              " 'collaborated',\n",
              " 'wheeling',\n",
              " 'crossing',\n",
              " 'dortmunder',\n",
              " 'tvs',\n",
              " 'yourself',\n",
              " 'redeem',\n",
              " 'educati',\n",
              " 'zimbabwe',\n",
              " 'pap',\n",
              " 'conceptualised',\n",
              " 'eighth',\n",
              " 'spain',\n",
              " 'uplifting',\n",
              " 'technician',\n",
              " 'lindber',\n",
              " 'origination',\n",
              " 'treasury',\n",
              " 'bernado',\n",
              " 'icy',\n",
              " 'elected',\n",
              " 'unsuccessful',\n",
              " 'dartmouth',\n",
              " 'merits',\n",
              " 'prefabricated',\n",
              " 'ascendant',\n",
              " 'anderson',\n",
              " 'entirely',\n",
              " 'edmarc',\n",
              " 'ed',\n",
              " 'edwardsville',\n",
              " 'overhaul',\n",
              " 'folkbiblioteksutredningen',\n",
              " 'publicising',\n",
              " 'perceive',\n",
              " 'dubrovnik',\n",
              " 'bernard',\n",
              " 'inclusiveness',\n",
              " 'cuineas',\n",
              " 'hemloc',\n",
              " 'annes',\n",
              " 'cabell',\n",
              " 'mexico',\n",
              " 'vis',\n",
              " 'contacting',\n",
              " 'independant',\n",
              " 'scanp',\n",
              " 'moral',\n",
              " 'dearth',\n",
              " 'archdiocesan',\n",
              " 'unfulfilled',\n",
              " 'oulton',\n",
              " 'mc',\n",
              " 'bremen',\n",
              " 'seal',\n",
              " 'subjective',\n",
              " 'suffragettes',\n",
              " 'halt',\n",
              " 'telematics',\n",
              " 'proprietary',\n",
              " 'centredoc',\n",
              " 'reasonable',\n",
              " 'kanto',\n",
              " 'derives',\n",
              " 'excessive',\n",
              " 'municipality',\n",
              " 'bidlack',\n",
              " 'nixon',\n",
              " 'recollections',\n",
              " 'rhea',\n",
              " 'enfant',\n",
              " 'tautomers',\n",
              " 'regionalism',\n",
              " 'ascertained',\n",
              " 'peebles',\n",
              " 'eire',\n",
              " 'consultancies',\n",
              " 'gesture',\n",
              " 'graduals',\n",
              " 'cooperatives',\n",
              " 'checked',\n",
              " 'litton',\n",
              " 'shiffman',\n",
              " 'documate',\n",
              " 'weapon',\n",
              " 'obstructed',\n",
              " 'exchanging',\n",
              " 'paste',\n",
              " 'nkf',\n",
              " 'compete',\n",
              " 'stricter',\n",
              " 'truncation',\n",
              " 'corps',\n",
              " 'colleague',\n",
              " 'hebron',\n",
              " 'carlyle',\n",
              " 'violates',\n",
              " 'solely',\n",
              " 'vibrating',\n",
              " 'aging',\n",
              " 'surprising',\n",
              " 'revealing',\n",
              " 'nora',\n",
              " 'biomedical',\n",
              " 'eyes',\n",
              " 'chancellor',\n",
              " 'sulzer',\n",
              " 'charlotte',\n",
              " 'xii',\n",
              " 'cheapness',\n",
              " 'archaeological',\n",
              " 'aspiring',\n",
              " 'addressee',\n",
              " 'democratisation',\n",
              " 'grows',\n",
              " 'wearing',\n",
              " 'portuguese',\n",
              " 'milk',\n",
              " 'magnavox',\n",
              " 'ghosts',\n",
              " 'ferris',\n",
              " 'appleton',\n",
              " 'gambles',\n",
              " 'deregulation',\n",
              " 'individualised',\n",
              " 'tribes',\n",
              " 'repertoire',\n",
              " 'respondants',\n",
              " 'enthusiastically',\n",
              " 'ongsiako',\n",
              " 'supplant',\n",
              " 'pote',\n",
              " 'surnamed',\n",
              " 'malayan',\n",
              " 'ulm',\n",
              " 'ensuing',\n",
              " 'benson',\n",
              " 'grappling',\n",
              " 'illiterate',\n",
              " 'disinfectant',\n",
              " 'metabolic',\n",
              " 'tress',\n",
              " 'dimensional',\n",
              " 'coeducational',\n",
              " 'proffered',\n",
              " 'int',\n",
              " 'teletex',\n",
              " 'essays',\n",
              " 'aromaticity',\n",
              " 'fly',\n",
              " 'block',\n",
              " 'lengths',\n",
              " 'sokolov',\n",
              " 'imaging',\n",
              " 'of',\n",
              " 'microforming',\n",
              " 'ingredients',\n",
              " 'intensely',\n",
              " 'ck',\n",
              " 'for',\n",
              " 'engels',\n",
              " 'maximises',\n",
              " 'suspended',\n",
              " 'cassi',\n",
              " 'loaded',\n",
              " 'middlebury',\n",
              " 'overcrowding',\n",
              " 'ephemeral',\n",
              " 'aptly',\n",
              " 'waves',\n",
              " 'founding',\n",
              " 'trading',\n",
              " 'vaildating',\n",
              " 'multipliers',\n",
              " 'instigators',\n",
              " 'gambia',\n",
              " 'sur',\n",
              " 'managed',\n",
              " 'merged',\n",
              " 'accommodates',\n",
              " 'nevada',\n",
              " 'gradings',\n",
              " 'debated',\n",
              " 'arisen',\n",
              " 'let',\n",
              " 'wolfgang',\n",
              " 'dbtg',\n",
              " 'implementating',\n",
              " 'heighten',\n",
              " 'harburg',\n",
              " 'believer',\n",
              " 'blarney',\n",
              " 'compression',\n",
              " 'gains',\n",
              " 'physicochemical',\n",
              " 'dependence',\n",
              " 'variant',\n",
              " 'fashions',\n",
              " 'graphite',\n",
              " 'mrc',\n",
              " 'negotiating',\n",
              " 'yeasts',\n",
              " 'cure',\n",
              " 'casts',\n",
              " 'visualise',\n",
              " 'trash',\n",
              " 'insofar',\n",
              " 'retreat',\n",
              " 'ratios',\n",
              " 'cis',\n",
              " 'prospect',\n",
              " 'tymnet',\n",
              " 'kalmar',\n",
              " 'schoolteachers',\n",
              " 'grass',\n",
              " 'dickinson',\n",
              " 'permutations',\n",
              " 'hogg',\n",
              " 'leather',\n",
              " 'aquaculture',\n",
              " 'frequent',\n",
              " 'populous',\n",
              " 'portsmouth',\n",
              " 'checklist',\n",
              " 'discards',\n",
              " 'operators',\n",
              " 'postwar',\n",
              " 'ohoopee',\n",
              " 'ledges',\n",
              " 'populated',\n",
              " 'strengthening',\n",
              " 'barcode',\n",
              " 'fisher',\n",
              " 'strengthened',\n",
              " 'saudi',\n",
              " 'infross',\n",
              " 'extemplo',\n",
              " 'slovenska',\n",
              " 'astronomer',\n",
              " 'di',\n",
              " 'neds',\n",
              " 'hovman',\n",
              " 'handwritten',\n",
              " 'wool',\n",
              " 'conclude',\n",
              " 'retained',\n",
              " 'packaged',\n",
              " 'surroundings',\n",
              " 'tier',\n",
              " 'chan',\n",
              " 'ideson',\n",
              " 'erlangen',\n",
              " 'numberless',\n",
              " 'undergoing',\n",
              " 'cognizance',\n",
              " 'pcrr',\n",
              " 'exhortation',\n",
              " 'fedirchuk',\n",
              " 'engraving',\n",
              " 'youths',\n",
              " 'medicaid',\n",
              " 'attitudinal',\n",
              " 'bibliotheekraad',\n",
              " 'hurdling',\n",
              " 'okhridski',\n",
              " 'collates',\n",
              " 'mentioning',\n",
              " 'li',\n",
              " 'instruct',\n",
              " 'signposting',\n",
              " 'ingenuity',\n",
              " 'supplemental',\n",
              " 'illuminative',\n",
              " 'divide',\n",
              " 'buzzwords',\n",
              " 'amplify',\n",
              " 'tactics',\n",
              " 'latecomers',\n",
              " 'highland',\n",
              " 'pays',\n",
              " 'sante',\n",
              " 'soliciting',\n",
              " 'offence',\n",
              " 'suffer',\n",
              " 'equality',\n",
              " 'whites',\n",
              " 'emss',\n",
              " 'lazar',\n",
              " 'monks',\n",
              " 'biennial',\n",
              " 'maidenhead',\n",
              " 'credibility',\n",
              " 'penetration',\n",
              " 'asca',\n",
              " 'smirov',\n",
              " 'minimises',\n",
              " 'token',\n",
              " 'boek',\n",
              " 'registrar',\n",
              " 'specimens',\n",
              " 'interposed',\n",
              " 'survive',\n",
              " 'dispose',\n",
              " 'germanic',\n",
              " 'vista',\n",
              " 'experimentally',\n",
              " 'municipalities',\n",
              " 'goddard',\n",
              " 'custom',\n",
              " 'commissioner',\n",
              " 'rises',\n",
              " 'propositions',\n",
              " 'tabulates',\n",
              " 'hydrolysis',\n",
              " 'colombiano',\n",
              " 'contemplated',\n",
              " 'obliged',\n",
              " 'straightening',\n",
              " 'skamokawa',\n",
              " 'slowly',\n",
              " 'susan',\n",
              " 'seeing',\n",
              " 'speculative',\n",
              " 'clearance',\n",
              " 'reputation',\n",
              " 'jeffrey',\n",
              " 'tpb',\n",
              " 'interval',\n",
              " 'subgroup',\n",
              " 'cassiodorus',\n",
              " 'clots',\n",
              " 'camera',\n",
              " 'construct',\n",
              " 'birthday',\n",
              " 'attraction',\n",
              " 'engine',\n",
              " 'earnings',\n",
              " 'thuro',\n",
              " 'candidate',\n",
              " 'interchangeable',\n",
              " 'tabulated',\n",
              " 'wildlife',\n",
              " 'rocky',\n",
              " 'jla',\n",
              " 'specially',\n",
              " 'magnification',\n",
              " 'pointed',\n",
              " 'interactively',\n",
              " 'birmingham',\n",
              " 'osmotically',\n",
              " 'blends',\n",
              " 'factfinding',\n",
              " 'geology',\n",
              " 'sufficiency',\n",
              " 'wishing',\n",
              " 'maoris',\n",
              " 'desulphurisation',\n",
              " 'nationality',\n",
              " 'fmarks',\n",
              " 'audit',\n",
              " 'colorado',\n",
              " 'purposiveness',\n",
              " 'gnomon',\n",
              " 'eased',\n",
              " 'logarithmically',\n",
              " 'permissive',\n",
              " 'atkinson',\n",
              " 'plotting',\n",
              " 'criticise',\n",
              " 'idiom',\n",
              " 'aerodynamics',\n",
              " 'expedient',\n",
              " 'mccartney',\n",
              " 'iconographic',\n",
              " 'fresh',\n",
              " ...}"
            ]
          },
          "metadata": {},
          "execution_count": 52
        }
      ]
    },
    {
      "cell_type": "markdown",
      "source": [
        "## Remove stop and steⅿⅿing words"
      ],
      "metadata": {
        "id": "5TgzfWbkRLgI"
      }
    },
    {
      "cell_type": "code",
      "source": [
        "def remove_abandon_words(df, remove_word_list, token_col=\"token\"):\n",
        "    return df.with_columns(\n",
        "        pl.col(token_col).list.eval(\n",
        "            pl.element().filter(pl.element().is_in(remove_word_list).not_())\n",
        "        ).alias(token_col)\n",
        "    )"
      ],
      "metadata": {
        "id": "sJiy_qiBRMcG"
      },
      "execution_count": 53,
      "outputs": []
    },
    {
      "cell_type": "code",
      "source": [
        "documents_refined = remove_abandon_words(documents_tokenized, removal_words)\n",
        "queries_refined = remove_abandon_words(queries_tokenized, removal_words)"
      ],
      "metadata": {
        "id": "MQ1bb9mjR2of"
      },
      "execution_count": 54,
      "outputs": []
    },
    {
      "cell_type": "code",
      "source": [
        "documents_refined.head(10)"
      ],
      "metadata": {
        "colab": {
          "base_uri": "https://localhost:8080/",
          "height": 412
        },
        "id": "3bE9Y5SVR35N",
        "outputId": "8d11dcf0-bc43-455e-820c-005b1c5ebff2"
      },
      "execution_count": 55,
      "outputs": [
        {
          "output_type": "execute_result",
          "data": {
            "text/plain": [
              "shape: (10, 3)\n",
              "┌───────┬─────────────────────────────────────────────┬────────────────────────────────────────────┐\n",
              "│ index ┆ text                                        ┆ token                                      │\n",
              "│ ---   ┆ ---                                         ┆ ---                                        │\n",
              "│ i64   ┆ str                                         ┆ list[str]                                  │\n",
              "╞═══════╪═════════════════════════════════════════════╪════════════════════════════════════════════╡\n",
              "│ 1     ┆ the indian council of library and           ┆ [\"indian\", \"council\", \"services\",          │\n",
              "│       ┆ information services research and tr…       ┆ \"research\", \"training\", \"proposal\", …      │\n",
              "│ 2     ┆ the lingering fragrance proceedings of the  ┆ [\"proceedings\", \"all\", \"india\",            │\n",
              "│       ┆ xxiv all india library conf…                ┆ \"conference\", \"papers\", \"proceedings\",…    │\n",
              "│ 3     ┆ xxv all india library conference trivandrum ┆ [\"all\", \"india\", \"conference\", \"may\",      │\n",
              "│       ┆ may papers and proceedings…                 ┆ \"papers\", \"proceedings\", \"confer…          │\n",
              "│ 4     ┆ malawi library association second annual    ┆ [\"association\", \"annual\", \"general\",       │\n",
              "│       ┆ general meeting chancellor co…              ┆ \"meeting\", \"college\", \"summary\", …         │\n",
              "│ 5     ┆ a personal view of the zambia library       ┆ [\"personal\", \"view\", \"service\",            │\n",
              "│       ┆ service personal view of the ser…           ┆ \"personal\", \"view\", \"service\", \"based\"…    │\n",
              "│ 6     ┆ cla turning on the power report of          ┆ [\"on\", \"power\", \"report\", \"proceedings\",   │\n",
              "│       ┆ proceedings of the th annual canadi…        ┆ \"th\", \"annual\", \"canadian\", \"…             │\n",
              "│ 7     ┆ uncertain beginnings report of the american ┆ [\"report\", \"american\", \"association\",      │\n",
              "│       ┆ library association midwin…                 ┆ \"meeting\", \"washington\", \"jan\", …          │\n",
              "│ 8     ┆ midwinter in reagan s washington an ala     ┆ [\"s\", \"washington\", \"an\", \"ala\",           │\n",
              "│       ┆ conference report report of th…             ┆ \"conference\", \"report\", \"report\", \"am…     │\n",
              "│ 9     ┆ the white house conference on library and   ┆ [\"white\", \"house\", \"conference\", \"on\",     │\n",
              "│       ┆ information services summary…               ┆ \"services\", \"summary\", \"an\", \"a…           │\n",
              "│ 10    ┆ information books are just the beginning    ┆ [\"books\", \"are\", \"just\", \"beginning\",      │\n",
              "│       ┆ the michigan white house conf…              ┆ \"white\", \"house\", \"conference\", …          │\n",
              "└───────┴─────────────────────────────────────────────┴────────────────────────────────────────────┘"
            ],
            "text/html": [
              "<div><style>\n",
              ".dataframe > thead > tr,\n",
              ".dataframe > tbody > tr {\n",
              "  text-align: right;\n",
              "  white-space: pre-wrap;\n",
              "}\n",
              "</style>\n",
              "<small>shape: (10, 3)</small><table border=\"1\" class=\"dataframe\"><thead><tr><th>index</th><th>text</th><th>token</th></tr><tr><td>i64</td><td>str</td><td>list[str]</td></tr></thead><tbody><tr><td>1</td><td>&quot;the indian council of library and information services research and tr…</td><td>[&quot;indian&quot;, &quot;council&quot;, &quot;services&quot;, &quot;research&quot;, &quot;training&quot;, &quot;proposal&quot;, &quot;consideration&quot;, &quot;examines&quot;, &quot;indian&quot;, … &quot;librarianship&quot;]</td></tr><tr><td>2</td><td>&quot;the lingering fragrance proceedings of the xxiv all india library conf…</td><td>[&quot;proceedings&quot;, &quot;all&quot;, &quot;india&quot;, &quot;conference&quot;, &quot;papers&quot;, &quot;proceedings&quot;, &quot;from&quot;, &quot;conference&quot;, &quot;with&quot;, … &quot;feb&quot;]</td></tr><tr><td>3</td><td>&quot;xxv all india library conference trivandrum may papers and proceedings…</td><td>[&quot;all&quot;, &quot;india&quot;, &quot;conference&quot;, &quot;may&quot;, &quot;papers&quot;, &quot;proceedings&quot;, &quot;conference&quot;, &quot;papers&quot;, &quot;relate&quot;, … &quot;movement&quot;]</td></tr><tr><td>4</td><td>&quot;malawi library association second annual general meeting chancellor co…</td><td>[&quot;association&quot;, &quot;annual&quot;, &quot;general&quot;, &quot;meeting&quot;, &quot;college&quot;, &quot;summary&quot;, &quot;proceedings&quot;, &quot;lists&quot;, &quot;those&quot;, … &quot;organisations&quot;]</td></tr><tr><td>5</td><td>&quot;a personal view of the zambia library service personal view of the ser…</td><td>[&quot;personal&quot;, &quot;view&quot;, &quot;service&quot;, &quot;personal&quot;, &quot;view&quot;, &quot;service&quot;, &quot;based&quot;, &quot;on&quot;, &quot;observations&quot;, … &quot;activities&quot;]</td></tr><tr><td>6</td><td>&quot;cla turning on the power report of proceedings of the th annual canadi…</td><td>[&quot;on&quot;, &quot;power&quot;, &quot;report&quot;, &quot;proceedings&quot;, &quot;th&quot;, &quot;annual&quot;, &quot;canadian&quot;, &quot;association&quot;, &quot;conference&quot;, … &quot;year&quot;]</td></tr><tr><td>7</td><td>&quot;uncertain beginnings report of the american library association midwin…</td><td>[&quot;report&quot;, &quot;american&quot;, &quot;association&quot;, &quot;meeting&quot;, &quot;washington&quot;, &quot;jan&quot;, &quot;feb&quot;, &quot;expressed&quot;, &quot;about&quot;, … &quot;organisations&quot;]</td></tr><tr><td>8</td><td>&quot;midwinter in reagan s washington an ala conference report report of th…</td><td>[&quot;s&quot;, &quot;washington&quot;, &quot;an&quot;, &quot;ala&quot;, &quot;conference&quot;, &quot;report&quot;, &quot;report&quot;, &quot;american&quot;, &quot;association&quot;, … &quot;center&quot;]</td></tr><tr><td>9</td><td>&quot;the white house conference on library and information services summary…</td><td>[&quot;white&quot;, &quot;house&quot;, &quot;conference&quot;, &quot;on&quot;, &quot;services&quot;, &quot;summary&quot;, &quot;an&quot;, &quot;abstract&quot;, &quot;this&quot;, … &quot;ntis&quot;]</td></tr><tr><td>10</td><td>&quot;information books are just the beginning the michigan white house conf…</td><td>[&quot;books&quot;, &quot;are&quot;, &quot;just&quot;, &quot;beginning&quot;, &quot;white&quot;, &quot;house&quot;, &quot;conference&quot;, &quot;on&quot;, &quot;services&quot;, … &quot;ntis&quot;]</td></tr></tbody></table></div>"
            ]
          },
          "metadata": {},
          "execution_count": 55
        }
      ]
    },
    {
      "cell_type": "code",
      "source": [
        "queries_refined.head(10)"
      ],
      "metadata": {
        "colab": {
          "base_uri": "https://localhost:8080/",
          "height": 412
        },
        "id": "PEBoRqZhSKCd",
        "outputId": "aa9af9cd-4312-4243-e2c2-31ed6fd538e7"
      },
      "execution_count": 56,
      "outputs": [
        {
          "output_type": "execute_result",
          "data": {
            "text/plain": [
              "shape: (10, 3)\n",
              "┌───────┬─────────────────────────────────────────────┬────────────────────────────────────────────┐\n",
              "│ index ┆ text                                        ┆ token                                      │\n",
              "│ ---   ┆ ---                                         ┆ ---                                        │\n",
              "│ i64   ┆ str                                         ┆ list[str]                                  │\n",
              "╞═══════╪═════════════════════════════════════════════╪════════════════════════════════════════════╡\n",
              "│ 1     ┆ i am interested in the identification and   ┆ [\"i\", \"interested\", \"identification\",      │\n",
              "│       ┆ evaluation of novel computer…               ┆ \"evaluation\", \"computer\", \"incre…          │\n",
              "│ 2     ┆ i would be interested to receive            ┆ [\"i\", \"would\", \"be\", \"interested\",         │\n",
              "│       ┆ information on non users of libraries…      ┆ \"receive\", \"on\", \"non\", \"users\", \"l…       │\n",
              "│ 3     ┆ i am interested in computer documentation   ┆ [\"i\", \"interested\", \"computer\",            │\n",
              "│       ┆ systems for chemical patents…               ┆ \"documentation\", \"systems\", \"chemical\"…    │\n",
              "│ 4     ┆ i would be pleased to receive any           ┆ [\"i\", \"would\", \"be\", \"receive\", \"any\",     │\n",
              "│       ┆ information on the use of journals i…       ┆ \"on\", \"use\", \"journals\", \"libra…           │\n",
              "│ 5     ┆ my dissertation is an overview of news      ┆ [\"dissertation\", \"is\", \"an\", \"overview\",   │\n",
              "│       ┆ databases looking at the availa…            ┆ \"news\", \"at\", \"availability\",…             │\n",
              "│ 6     ┆ my dissertation is on library outreach for  ┆ [\"dissertation\", \"is\", \"on\", \"chinese\",    │\n",
              "│       ┆ the chinese community in sh…                ┆ \"community\", \"but\", \"i\", \"woul…            │\n",
              "│ 7     ┆ i would be pleased to receive papers on the ┆ [\"i\", \"would\", \"be\", \"receive\", \"papers\",  │\n",
              "│       ┆ security of information in…                 ┆ \"on\", \"security\", \"databanks…              │\n",
              "│ 8     ┆ i am interested in the professional         ┆ [\"i\", \"interested\", \"professional\",        │\n",
              "│       ┆ education of librarians in particu…         ┆ \"education\", \"librarians\", \"partic…        │\n",
              "│ 9     ┆ i am interested in the extent to which      ┆ [\"i\", \"interested\", \"extent\", \"which\",     │\n",
              "│       ┆ libraries are charging for serv…            ┆ \"libraries\", \"are\", \"services\",…           │\n",
              "│ 10    ┆ i am interested in information on the       ┆ [\"i\", \"interested\", \"on\", \"provision\",     │\n",
              "│       ┆ provision of current awareness b…           ┆ \"current\", \"awareness\", \"especi…           │\n",
              "└───────┴─────────────────────────────────────────────┴────────────────────────────────────────────┘"
            ],
            "text/html": [
              "<div><style>\n",
              ".dataframe > thead > tr,\n",
              ".dataframe > tbody > tr {\n",
              "  text-align: right;\n",
              "  white-space: pre-wrap;\n",
              "}\n",
              "</style>\n",
              "<small>shape: (10, 3)</small><table border=\"1\" class=\"dataframe\"><thead><tr><th>index</th><th>text</th><th>token</th></tr><tr><td>i64</td><td>str</td><td>list[str]</td></tr></thead><tbody><tr><td>1</td><td>&quot;i am interested in the identification and evaluation of novel computer…</td><td>[&quot;i&quot;, &quot;interested&quot;, &quot;identification&quot;, &quot;evaluation&quot;, &quot;computer&quot;, &quot;increased&quot;, &quot;parallelism&quot;, &quot;both&quot;, &quot;simd&quot;, … &quot;memory&quot;]</td></tr><tr><td>2</td><td>&quot;i would be interested to receive information on non users of libraries…</td><td>[&quot;i&quot;, &quot;would&quot;, &quot;be&quot;, &quot;interested&quot;, &quot;receive&quot;, &quot;on&quot;, &quot;non&quot;, &quot;users&quot;, &quot;libraries&quot;, … &quot;studies&quot;]</td></tr><tr><td>3</td><td>&quot;i am interested in computer documentation systems for chemical patents…</td><td>[&quot;i&quot;, &quot;interested&quot;, &quot;computer&quot;, &quot;documentation&quot;, &quot;systems&quot;, &quot;chemical&quot;, &quot;patents&quot;, &quot;i&quot;, &quot;would&quot;, … &quot;patents&quot;]</td></tr><tr><td>4</td><td>&quot;i would be pleased to receive any information on the use of journals i…</td><td>[&quot;i&quot;, &quot;would&quot;, &quot;be&quot;, &quot;receive&quot;, &quot;any&quot;, &quot;on&quot;, &quot;use&quot;, &quot;journals&quot;, &quot;libraries&quot;, … &quot;libraries&quot;]</td></tr><tr><td>5</td><td>&quot;my dissertation is an overview of news databases looking at the availa…</td><td>[&quot;dissertation&quot;, &quot;is&quot;, &quot;an&quot;, &quot;overview&quot;, &quot;news&quot;, &quot;at&quot;, &quot;availability&quot;, &quot;content&quot;, &quot;scope&quot;, … &quot;world&quot;]</td></tr><tr><td>6</td><td>&quot;my dissertation is on library outreach for the chinese community in sh…</td><td>[&quot;dissertation&quot;, &quot;is&quot;, &quot;on&quot;, &quot;chinese&quot;, &quot;community&quot;, &quot;but&quot;, &quot;i&quot;, &quot;would&quot;, &quot;be&quot;, … &quot;society&quot;]</td></tr><tr><td>7</td><td>&quot;i would be pleased to receive papers on the security of information in…</td><td>[&quot;i&quot;, &quot;would&quot;, &quot;be&quot;, &quot;receive&quot;, &quot;papers&quot;, &quot;on&quot;, &quot;security&quot;, &quot;databanks&quot;, &quot;or&quot;, … &quot;access&quot;]</td></tr><tr><td>8</td><td>&quot;i am interested in the professional education of librarians in particu…</td><td>[&quot;i&quot;, &quot;interested&quot;, &quot;professional&quot;, &quot;education&quot;, &quot;librarians&quot;, &quot;particular&quot;, &quot;any&quot;, &quot;service&quot;, &quot;training&quot;, … &quot;education&quot;]</td></tr><tr><td>9</td><td>&quot;i am interested in the extent to which libraries are charging for serv…</td><td>[&quot;i&quot;, &quot;interested&quot;, &quot;extent&quot;, &quot;which&quot;, &quot;libraries&quot;, &quot;are&quot;, &quot;services&quot;, &quot;this&quot;, &quot;public&quot;, … &quot;services&quot;]</td></tr><tr><td>10</td><td>&quot;i am interested in information on the provision of current awareness b…</td><td>[&quot;i&quot;, &quot;interested&quot;, &quot;on&quot;, &quot;provision&quot;, &quot;current&quot;, &quot;awareness&quot;, &quot;especially&quot;, &quot;sdi&quot;, &quot;services&quot;, … &quot;awareness&quot;]</td></tr></tbody></table></div>"
            ]
          },
          "metadata": {},
          "execution_count": 56
        }
      ]
    },
    {
      "cell_type": "markdown",
      "source": [
        "# Step 5:"
      ],
      "metadata": {
        "id": "xr7m1_NySNKl"
      }
    }
  ],
  "metadata": {
    "colab": {
      "provenance": [],
      "authorship_tag": "ABX9TyMtA7BbCjFXmO0C31izRuKY",
      "include_colab_link": true
    },
    "kernelspec": {
      "display_name": "Python 3",
      "name": "python3"
    },
    "language_info": {
      "name": "python"
    }
  },
  "nbformat": 4,
  "nbformat_minor": 0
}