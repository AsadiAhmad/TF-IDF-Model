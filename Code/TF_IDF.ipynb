{
  "cells": [
    {
      "cell_type": "markdown",
      "metadata": {
        "id": "view-in-github",
        "colab_type": "text"
      },
      "source": [
        "<a href=\"https://colab.research.google.com/github/AsadiAhmad/TF-IDF-Model/blob/main/Code/TF_IDF.ipynb\" target=\"_parent\"><img src=\"https://colab.research.google.com/assets/colab-badge.svg\" alt=\"Open In Colab\"/></a>"
      ]
    },
    {
      "cell_type": "markdown",
      "metadata": {
        "id": "v3R3xQDaIOwV"
      },
      "source": [
        "# Step 1: Import Libraries"
      ]
    },
    {
      "cell_type": "code",
      "execution_count": 7,
      "metadata": {
        "id": "dqBVBAn1IBrp"
      },
      "outputs": [],
      "source": [
        "import requests\n",
        "\n",
        "import polars as pl"
      ]
    },
    {
      "cell_type": "markdown",
      "metadata": {
        "id": "MEHr7trMNh0a"
      },
      "source": [
        "# Step 2: Download Documents and Queries"
      ]
    },
    {
      "cell_type": "code",
      "execution_count": 8,
      "metadata": {
        "id": "IoPuqKMNN903"
      },
      "outputs": [],
      "source": [
        "def download_text(url):\n",
        "    response = requests.get(url)\n",
        "    if response.status_code == 200:\n",
        "        return response.text\n",
        "    else:\n",
        "        print(f\"Failed to fetch {url}. Status code: {response.status_code}\")\n",
        "        return None"
      ]
    },
    {
      "cell_type": "code",
      "execution_count": 9,
      "metadata": {
        "id": "oE0fK5hfPYuG"
      },
      "outputs": [],
      "source": [
        "urls = {\n",
        "    \"Documents\": \"https://raw.githubusercontent.com/AsadiAhmad/TF-IDF-Model/main/Dataset/Documents.txt\",\n",
        "    \"Queries\": \"https://raw.githubusercontent.com/AsadiAhmad/TF-IDF-Model/main/Dataset/Queries.txt\",\n",
        "    \"Result\": \"https://raw.githubusercontent.com/AsadiAhmad/TF-IDF-Model/main/Dataset/Result.txt\"\n",
        "}"
      ]
    },
    {
      "cell_type": "code",
      "execution_count": 10,
      "metadata": {
        "colab": {
          "base_uri": "https://localhost:8080/"
        },
        "id": "Ajkhvi8KPaLn",
        "outputId": "9c12215f-9d7d-4b7e-d1ea-4a564390ba19"
      },
      "outputs": [
        {
          "output_type": "stream",
          "name": "stdout",
          "text": [
            "Datasets downloaded successfully!\n"
          ]
        }
      ],
      "source": [
        "data = {}\n",
        "for key, url in urls.items():\n",
        "    data[key] = download_text(url)\n",
        "\n",
        "print(\"Datasets downloaded successfully!\")"
      ]
    },
    {
      "cell_type": "markdown",
      "metadata": {
        "id": "TgoRndq1XhHX"
      },
      "source": [
        "# Step 3: Convert Dataset into Polars Data frame"
      ]
    },
    {
      "cell_type": "markdown",
      "metadata": {
        "id": "IT_nQsvyfLKp"
      },
      "source": [
        "## Convert into polars"
      ]
    },
    {
      "cell_type": "code",
      "execution_count": 11,
      "metadata": {
        "id": "UHKj9AigXpQQ"
      },
      "outputs": [],
      "source": [
        "documents_text = data[\"Documents\"]\n",
        "queries_text = data[\"Queries\"]\n",
        "result_text = data[\"Result\"]"
      ]
    },
    {
      "cell_type": "code",
      "execution_count": 12,
      "metadata": {
        "id": "PvYSlsqsb-A0"
      },
      "outputs": [],
      "source": [
        "documents_splited = documents_text.split('********************************************')\n",
        "\n",
        "documents = pl.DataFrame({\n",
        "    \"index\": range(1, len(documents_splited) + 1),\n",
        "    \"document\": documents_splited\n",
        "})\n",
        "\n",
        "documents = documents.with_columns(\n",
        "    pl.col(\"document\")\n",
        "    .str.split(\"\\n\")\n",
        "    .list.slice(1)\n",
        "    .list.join(\" \")\n",
        "    .str.replace_all(r'\\s+', ' ')\n",
        "    .str.strip_chars()\n",
        ")"
      ]
    },
    {
      "cell_type": "code",
      "execution_count": 13,
      "metadata": {
        "id": "hmmm8K3kxKEA"
      },
      "outputs": [],
      "source": [
        "queries_splited = queries_text.split('#')\n",
        "\n",
        "queries = pl.DataFrame({\n",
        "    \"index\": range(1, len(queries_splited) + 1),\n",
        "    \"query\": queries_splited\n",
        "})\n",
        "\n",
        "queries = queries.with_columns(\n",
        "    pl.col(\"query\")\n",
        "    .str.split(\"\\n\")\n",
        "    .list.slice(1)\n",
        "    .list.join(\" \")\n",
        "    .str.replace_all(r'\\s+', ' ')\n",
        "    .str.strip_chars()\n",
        ")"
      ]
    },
    {
      "cell_type": "code",
      "source": [
        "reference_lines = []\n",
        "for line in result_text.split('\\n'):\n",
        "    line = line.strip()\n",
        "    if line.endswith('-1'):\n",
        "        refs = line[:-2].strip().split()\n",
        "        reference_lines.append([int(ref) for ref in refs])\n",
        "\n",
        "result = pl.DataFrame({\n",
        "    \"index\": range(1, len(reference_lines) + 1),\n",
        "    \"references\": reference_lines\n",
        "})"
      ],
      "metadata": {
        "id": "HZ2rfcILyxFI"
      },
      "execution_count": 14,
      "outputs": []
    },
    {
      "cell_type": "markdown",
      "metadata": {
        "id": "pm577WSBfCaq"
      },
      "source": [
        "## Set Config for polar showing"
      ]
    },
    {
      "cell_type": "code",
      "execution_count": 15,
      "metadata": {
        "colab": {
          "base_uri": "https://localhost:8080/",
          "height": 186
        },
        "id": "2T-Bpwa6fCHg",
        "outputId": "c11ef56d-1338-4078-8e8b-83c45efaadf0"
      },
      "outputs": [
        {
          "output_type": "execute_result",
          "data": {
            "text/plain": [
              "polars.config.Config"
            ],
            "text/html": [
              "<div style=\"max-width:800px; border: 1px solid var(--colab-border-color);\"><style>\n",
              "      pre.function-repr-contents {\n",
              "        overflow-x: auto;\n",
              "        padding: 8px 12px;\n",
              "        max-height: 500px;\n",
              "      }\n",
              "\n",
              "      pre.function-repr-contents.function-repr-contents-collapsed {\n",
              "        cursor: pointer;\n",
              "        max-height: 100px;\n",
              "      }\n",
              "    </style>\n",
              "    <pre style=\"white-space: initial; background:\n",
              "         var(--colab-secondary-surface-color); padding: 8px 12px;\n",
              "         border-bottom: 1px solid var(--colab-border-color);\"><b>polars.config.Config</b><br/>def __call__(func)</pre><pre class=\"function-repr-contents function-repr-contents-collapsed\" style=\"\"><a class=\"filepath\" style=\"display:none\" href=\"#\">/usr/local/lib/python3.11/dist-packages/polars/config.py</a>Configure polars; offers options for table formatting and more.\n",
              "\n",
              "Notes\n",
              "-----\n",
              "Can also be used as a context manager OR a function decorator in order to\n",
              "temporarily scope the lifetime of specific options. For example:\n",
              "\n",
              "&gt;&gt;&gt; with pl.Config() as cfg:\n",
              "...     # set verbose for more detailed output within the scope\n",
              "...     cfg.set_verbose(True)  # doctest: +IGNORE_RESULT\n",
              "&gt;&gt;&gt; # scope exit - no longer in verbose mode\n",
              "\n",
              "This can also be written more compactly as:\n",
              "\n",
              "&gt;&gt;&gt; with pl.Config(verbose=True):\n",
              "...     pass\n",
              "\n",
              "(The compact format is available for all `Config` methods that take a single value).\n",
              "\n",
              "Alternatively, you can use as a decorator in order to scope the duration of the\n",
              "selected options to a specific function:\n",
              "\n",
              "&gt;&gt;&gt; @pl.Config(verbose=True)\n",
              "... def test():\n",
              "...     pass</pre>\n",
              "      <script>\n",
              "      if (google.colab.kernel.accessAllowed && google.colab.files && google.colab.files.view) {\n",
              "        for (const element of document.querySelectorAll('.filepath')) {\n",
              "          element.style.display = 'block'\n",
              "          element.onclick = (event) => {\n",
              "            event.preventDefault();\n",
              "            event.stopPropagation();\n",
              "            google.colab.files.view(element.textContent, 145);\n",
              "          };\n",
              "        }\n",
              "      }\n",
              "      for (const element of document.querySelectorAll('.function-repr-contents')) {\n",
              "        element.onclick = (event) => {\n",
              "          event.preventDefault();\n",
              "          event.stopPropagation();\n",
              "          element.classList.toggle('function-repr-contents-collapsed');\n",
              "        };\n",
              "      }\n",
              "      </script>\n",
              "      </div>"
            ]
          },
          "metadata": {},
          "execution_count": 15
        }
      ],
      "source": [
        "pl.Config.set_tbl_rows(-1)\n",
        "pl.Config.set_tbl_cols(-1)\n",
        "pl.Config.set_fmt_str_lengths(70)\n",
        "pl.Config.set_fmt_table_cell_list_len(10)"
      ]
    },
    {
      "cell_type": "markdown",
      "metadata": {
        "id": "7yJlQPRhw8fI"
      },
      "source": [
        "## Showing all frames"
      ]
    },
    {
      "cell_type": "code",
      "execution_count": 16,
      "metadata": {
        "colab": {
          "base_uri": "https://localhost:8080/",
          "height": 412
        },
        "id": "klefrgFRw9gu",
        "outputId": "e06026d2-2ecf-4a28-8622-c6e1ca0aa68b"
      },
      "outputs": [
        {
          "output_type": "execute_result",
          "data": {
            "text/plain": [
              "shape: (10, 2)\n",
              "┌───────┬─────────────────────────────────────────────────────────────────────────┐\n",
              "│ index ┆ document                                                                │\n",
              "│ ---   ┆ ---                                                                     │\n",
              "│ i64   ┆ str                                                                     │\n",
              "╞═══════╪═════════════════════════════════════════════════════════════════════════╡\n",
              "│ 1     ┆ THE INDIAN COUNCIL OF LIBRARY AND INFORMATION SERVICES RESEARCH AND TR… │\n",
              "│ 2     ┆ Document 2 THE LINGERING FRAGRANCE: PROCEEDINGS OF THE XXIV ALL INDIA … │\n",
              "│ 3     ┆ Document 3 XXV ALL INDIA LIBRARY CONFERENCE TRIVANDRUM 14-18 MAY 1979.… │\n",
              "│ 4     ┆ Document 4 MALAWI LIBRARY ASSOCIATION SECOND ANNUAL GENERAL MEETING, C… │\n",
              "│ 5     ┆ Document 5 A PERSONAL VIEW OF THE ZAMBIA LIBRARY SERVICE. PERSONAL VIE… │\n",
              "│ 6     ┆ Document 6 CLA 80: TURNING ON THE POWER. REPORT OF PROCEEDINGS OF THE … │\n",
              "│ 7     ┆ Document 7 UNCERTAIN BEGINNINGS. REPORT OF THE AMERICAN LIBRARY ASSOCI… │\n",
              "│ 8     ┆ Document 8 MIDWINTER IN REAGAN'S WASHINGTON: AN ALA CONFERENCE REPORT.… │\n",
              "│ 9     ┆ Document 9 THE WHITE HOUSE CONFERENCE ON LIBRARY AND INFORMATION SERVI… │\n",
              "│ 10    ┆ Document 10 INFORMATION: BOOKS ARE JUST THE BEGINNING. THE MICHIGAN WH… │\n",
              "└───────┴─────────────────────────────────────────────────────────────────────────┘"
            ],
            "text/html": [
              "<div><style>\n",
              ".dataframe > thead > tr,\n",
              ".dataframe > tbody > tr {\n",
              "  text-align: right;\n",
              "  white-space: pre-wrap;\n",
              "}\n",
              "</style>\n",
              "<small>shape: (10, 2)</small><table border=\"1\" class=\"dataframe\"><thead><tr><th>index</th><th>document</th></tr><tr><td>i64</td><td>str</td></tr></thead><tbody><tr><td>1</td><td>&quot;THE INDIAN COUNCIL OF LIBRARY AND INFORMATION SERVICES RESEARCH AND TR…</td></tr><tr><td>2</td><td>&quot;Document 2 THE LINGERING FRAGRANCE: PROCEEDINGS OF THE XXIV ALL INDIA …</td></tr><tr><td>3</td><td>&quot;Document 3 XXV ALL INDIA LIBRARY CONFERENCE TRIVANDRUM 14-18 MAY 1979.…</td></tr><tr><td>4</td><td>&quot;Document 4 MALAWI LIBRARY ASSOCIATION SECOND ANNUAL GENERAL MEETING, C…</td></tr><tr><td>5</td><td>&quot;Document 5 A PERSONAL VIEW OF THE ZAMBIA LIBRARY SERVICE. PERSONAL VIE…</td></tr><tr><td>6</td><td>&quot;Document 6 CLA 80: TURNING ON THE POWER. REPORT OF PROCEEDINGS OF THE …</td></tr><tr><td>7</td><td>&quot;Document 7 UNCERTAIN BEGINNINGS. REPORT OF THE AMERICAN LIBRARY ASSOCI…</td></tr><tr><td>8</td><td>&quot;Document 8 MIDWINTER IN REAGAN&#x27;S WASHINGTON: AN ALA CONFERENCE REPORT.…</td></tr><tr><td>9</td><td>&quot;Document 9 THE WHITE HOUSE CONFERENCE ON LIBRARY AND INFORMATION SERVI…</td></tr><tr><td>10</td><td>&quot;Document 10 INFORMATION: BOOKS ARE JUST THE BEGINNING. THE MICHIGAN WH…</td></tr></tbody></table></div>"
            ]
          },
          "metadata": {},
          "execution_count": 16
        }
      ],
      "source": [
        "documents.head(10)"
      ]
    },
    {
      "cell_type": "code",
      "execution_count": 17,
      "metadata": {
        "colab": {
          "base_uri": "https://localhost:8080/",
          "height": 412
        },
        "id": "p8znEUHTyrXD",
        "outputId": "560fa2bf-3abd-4b1a-a595-8a308eb6bea8"
      },
      "outputs": [
        {
          "output_type": "execute_result",
          "data": {
            "text/plain": [
              "shape: (10, 2)\n",
              "┌───────┬─────────────────────────────────────────────────────────────────────────┐\n",
              "│ index ┆ query                                                                   │\n",
              "│ ---   ┆ ---                                                                     │\n",
              "│ i64   ┆ str                                                                     │\n",
              "╞═══════╪═════════════════════════════════════════════════════════════════════════╡\n",
              "│ 1     ┆ I AM INTERESTED IN THE IDENTIFICATION AND EVALUATION OF NOVEL COMPUTER… │\n",
              "│ 2     ┆ 2 I WOULD BE INTERESTED TO RECEIVE INFORMATION ON NON-USERS OF LIBRARI… │\n",
              "│ 3     ┆ 3 I AM INTERESTED IN COMPUTER DOCUMENTATION SYSTEMS FOR CHEMICAL PATEN… │\n",
              "│ 4     ┆ 4 I WOULD BE PLEASED TO RECEIVE ANY INFORMATION ON THE USE OF JOURNALS… │\n",
              "│ 5     ┆ 5 MY DISSERTATION IS AN OVERVIEW OF NEWS DATABASES, LOOKING AT THE AVA… │\n",
              "│ 6     ┆ 6 MY DISSERTATION IS ON LIBRARY OUTREACH FOR THE CHINESE COMMUNITY IN … │\n",
              "│ 7     ┆ 7 I WOULD BE PLEASED TO RECEIVE PAPERS ON THE SECURITY OF INFORMATION … │\n",
              "│ 8     ┆ 8 I AM INTERESTED IN THE PROFESSIONAL EDUCATION OF LIBRARIANS, IN PART… │\n",
              "│ 9     ┆ 9 I AM INTERESTED IN THE EXTENT TO WHICH LIBRARIES ARE CHARGING FOR SE… │\n",
              "│ 10    ┆ 10 I AM INTERESTED IN INFORMATION ON THE PROVISION OF CURRENT AWARENES… │\n",
              "└───────┴─────────────────────────────────────────────────────────────────────────┘"
            ],
            "text/html": [
              "<div><style>\n",
              ".dataframe > thead > tr,\n",
              ".dataframe > tbody > tr {\n",
              "  text-align: right;\n",
              "  white-space: pre-wrap;\n",
              "}\n",
              "</style>\n",
              "<small>shape: (10, 2)</small><table border=\"1\" class=\"dataframe\"><thead><tr><th>index</th><th>query</th></tr><tr><td>i64</td><td>str</td></tr></thead><tbody><tr><td>1</td><td>&quot;I AM INTERESTED IN THE IDENTIFICATION AND EVALUATION OF NOVEL COMPUTER…</td></tr><tr><td>2</td><td>&quot;2 I WOULD BE INTERESTED TO RECEIVE INFORMATION ON NON-USERS OF LIBRARI…</td></tr><tr><td>3</td><td>&quot;3 I AM INTERESTED IN COMPUTER DOCUMENTATION SYSTEMS FOR CHEMICAL PATEN…</td></tr><tr><td>4</td><td>&quot;4 I WOULD BE PLEASED TO RECEIVE ANY INFORMATION ON THE USE OF JOURNALS…</td></tr><tr><td>5</td><td>&quot;5 MY DISSERTATION IS AN OVERVIEW OF NEWS DATABASES, LOOKING AT THE AVA…</td></tr><tr><td>6</td><td>&quot;6 MY DISSERTATION IS ON LIBRARY OUTREACH FOR THE CHINESE COMMUNITY IN …</td></tr><tr><td>7</td><td>&quot;7 I WOULD BE PLEASED TO RECEIVE PAPERS ON THE SECURITY OF INFORMATION …</td></tr><tr><td>8</td><td>&quot;8 I AM INTERESTED IN THE PROFESSIONAL EDUCATION OF LIBRARIANS, IN PART…</td></tr><tr><td>9</td><td>&quot;9 I AM INTERESTED IN THE EXTENT TO WHICH LIBRARIES ARE CHARGING FOR SE…</td></tr><tr><td>10</td><td>&quot;10 I AM INTERESTED IN INFORMATION ON THE PROVISION OF CURRENT AWARENES…</td></tr></tbody></table></div>"
            ]
          },
          "metadata": {},
          "execution_count": 17
        }
      ],
      "source": [
        "queries.head(10)"
      ]
    },
    {
      "cell_type": "code",
      "source": [
        "result.head(10)"
      ],
      "metadata": {
        "colab": {
          "base_uri": "https://localhost:8080/",
          "height": 412
        },
        "id": "dmVkxnD66PhA",
        "outputId": "2e14cb54-7a8f-4ae5-99d1-1fd65d685120"
      },
      "execution_count": 18,
      "outputs": [
        {
          "output_type": "execute_result",
          "data": {
            "text/plain": [
              "shape: (10, 2)\n",
              "┌───────┬──────────────────────────────────────────────────────────────┐\n",
              "│ index ┆ references                                                   │\n",
              "│ ---   ┆ ---                                                          │\n",
              "│ i64   ┆ list[i64]                                                    │\n",
              "╞═══════╪══════════════════════════════════════════════════════════════╡\n",
              "│ 1     ┆ [3392, 3396]                                                 │\n",
              "│ 2     ┆ [2623, 4291]                                                 │\n",
              "│ 3     ┆ [1407, 1431, 3794, 3795, 3796]                               │\n",
              "│ 4     ┆ [604, 3527, 4644, 5087, 5112, 5113, 5295]                    │\n",
              "│ 5     ┆ [3401]                                                       │\n",
              "│ 6     ┆ [5626, 5627, 5628, 5629, 5631]                               │\n",
              "│ 7     ┆ [277, 278, 279, 1277, 1278, 1769, 2279, 3265, 3267, … 5778]  │\n",
              "│ 8     ┆ [4485, 4486, 4499, 4717, 5011, 5170, 5533, 5534, 5723, 5816] │\n",
              "│ 9     ┆ [178, 680, 681, 1412, 3178, 3689, 3922, 4374, 4692, … 5859]  │\n",
              "│ 10    ┆ [769, 770, 1309, 1310, 1807, 2318, 2319, 2321, 2407, … 5801] │\n",
              "└───────┴──────────────────────────────────────────────────────────────┘"
            ],
            "text/html": [
              "<div><style>\n",
              ".dataframe > thead > tr,\n",
              ".dataframe > tbody > tr {\n",
              "  text-align: right;\n",
              "  white-space: pre-wrap;\n",
              "}\n",
              "</style>\n",
              "<small>shape: (10, 2)</small><table border=\"1\" class=\"dataframe\"><thead><tr><th>index</th><th>references</th></tr><tr><td>i64</td><td>list[i64]</td></tr></thead><tbody><tr><td>1</td><td>[3392, 3396]</td></tr><tr><td>2</td><td>[2623, 4291]</td></tr><tr><td>3</td><td>[1407, 1431, 3794, 3795, 3796]</td></tr><tr><td>4</td><td>[604, 3527, 4644, 5087, 5112, 5113, 5295]</td></tr><tr><td>5</td><td>[3401]</td></tr><tr><td>6</td><td>[5626, 5627, 5628, 5629, 5631]</td></tr><tr><td>7</td><td>[277, 278, 279, 1277, 1278, 1769, 2279, 3265, 3267, … 5778]</td></tr><tr><td>8</td><td>[4485, 4486, 4499, 4717, 5011, 5170, 5533, 5534, 5723, 5816]</td></tr><tr><td>9</td><td>[178, 680, 681, 1412, 3178, 3689, 3922, 4374, 4692, … 5859]</td></tr><tr><td>10</td><td>[769, 770, 1309, 1310, 1807, 2318, 2319, 2321, 2407, … 5801]</td></tr></tbody></table></div>"
            ]
          },
          "metadata": {},
          "execution_count": 18
        }
      ]
    }
  ],
  "metadata": {
    "colab": {
      "provenance": [],
      "authorship_tag": "ABX9TyOOCmXXN6uwl3f4LiNVt5hC",
      "include_colab_link": true
    },
    "kernelspec": {
      "display_name": "Python 3",
      "name": "python3"
    },
    "language_info": {
      "name": "python"
    }
  },
  "nbformat": 4,
  "nbformat_minor": 0
}