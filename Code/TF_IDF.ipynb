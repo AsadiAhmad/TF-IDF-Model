{
  "nbformat": 4,
  "nbformat_minor": 0,
  "metadata": {
    "colab": {
      "provenance": [],
      "authorship_tag": "ABX9TyMWAdybmxxGwtVnPobOlJSI",
      "include_colab_link": true
    },
    "kernelspec": {
      "name": "python3",
      "display_name": "Python 3"
    },
    "language_info": {
      "name": "python"
    }
  },
  "cells": [
    {
      "cell_type": "markdown",
      "metadata": {
        "id": "view-in-github",
        "colab_type": "text"
      },
      "source": [
        "<a href=\"https://colab.research.google.com/github/AsadiAhmad/TF-IDF-Model/blob/main/Code/TF_IDF.ipynb\" target=\"_parent\"><img src=\"https://colab.research.google.com/assets/colab-badge.svg\" alt=\"Open In Colab\"/></a>"
      ]
    },
    {
      "cell_type": "markdown",
      "source": [
        "# Step 1: Import Libraries"
      ],
      "metadata": {
        "id": "v3R3xQDaIOwV"
      }
    },
    {
      "cell_type": "code",
      "execution_count": 11,
      "metadata": {
        "id": "dqBVBAn1IBrp"
      },
      "outputs": [],
      "source": [
        "import requests\n",
        "\n",
        "import polars as pl"
      ]
    },
    {
      "cell_type": "markdown",
      "source": [
        "# Step 2: Download Documents and Queries"
      ],
      "metadata": {
        "id": "MEHr7trMNh0a"
      }
    },
    {
      "cell_type": "code",
      "source": [
        "def download_text(url):\n",
        "    response = requests.get(url)\n",
        "    if response.status_code == 200:\n",
        "        return response.text.splitlines()\n",
        "    else:\n",
        "        print(f\"Failed to fetch {url}. Status code: {response.status_code}\")\n",
        "        return None"
      ],
      "metadata": {
        "id": "IoPuqKMNN903"
      },
      "execution_count": 2,
      "outputs": []
    },
    {
      "cell_type": "code",
      "source": [
        "urls = {\n",
        "    \"Documents\": \"https://raw.githubusercontent.com/AsadiAhmad/TF-IDF-Model/main/Dataset/Documents.txt\",\n",
        "    \"Queries\": \"https://raw.githubusercontent.com/AsadiAhmad/TF-IDF-Model/main/Dataset/Queries.txt\",\n",
        "    \"Result\": \"https://raw.githubusercontent.com/AsadiAhmad/TF-IDF-Model/main/Dataset/Result.txt\"\n",
        "}"
      ],
      "metadata": {
        "id": "oE0fK5hfPYuG"
      },
      "execution_count": 7,
      "outputs": []
    },
    {
      "cell_type": "code",
      "source": [
        "data = {}\n",
        "for key, url in urls.items():\n",
        "    data[key] = download_text(url)\n",
        "\n",
        "print(\"Datasets downloaded successfully!\")"
      ],
      "metadata": {
        "id": "Ajkhvi8KPaLn",
        "colab": {
          "base_uri": "https://localhost:8080/"
        },
        "outputId": "9705a0ca-fae4-443a-8037-761ebb9d1772"
      },
      "execution_count": 8,
      "outputs": [
        {
          "output_type": "stream",
          "name": "stdout",
          "text": [
            "Datasets downloaded successfully!\n"
          ]
        }
      ]
    },
    {
      "cell_type": "markdown",
      "source": [
        "# Step 3: Convert Dataset into Polars Data frame"
      ],
      "metadata": {
        "id": "TgoRndq1XhHX"
      }
    },
    {
      "cell_type": "code",
      "source": [
        "Documents = data[\"Documents\"]\n",
        "Queries = data[\"Queries\"]\n",
        "Result = data[\"Result\"]"
      ],
      "metadata": {
        "id": "UHKj9AigXpQQ"
      },
      "execution_count": 9,
      "outputs": []
    },
    {
      "cell_type": "code",
      "source": [
        "documents = pl.DataFrame(Documents)\n",
        "queries = pl.DataFrame(Queries)\n",
        "result = pl.DataFrame(Result)"
      ],
      "metadata": {
        "id": "efm-6CyTYMXy"
      },
      "execution_count": 12,
      "outputs": []
    }
  ]
}